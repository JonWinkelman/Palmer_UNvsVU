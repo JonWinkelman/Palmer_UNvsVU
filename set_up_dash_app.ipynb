{
 "cells": [
  {
   "cell_type": "code",
   "execution_count": 2,
   "metadata": {
    "tags": []
   },
   "outputs": [
    {
     "name": "stdout",
     "output_type": "stream",
     "text": [
      "ncbi.datasets module not found. To install, run `pip install ncbi-datasets-pylib`.\n"
     ]
    }
   ],
   "source": [
    "from orthofinder_utils import dash_app_preprocess as dap\n",
    "from orthofinder_utils import proteomes_for_orthofinder as pfo\n",
    "from orthofinder_utils import dash_ortho_parser_d as dop\n",
    "from jw_utils import parse_gff as pgf\n",
    "import os\n",
    "import pandas as pd\n",
    "import json\n",
    "from Bio import Phylo\n",
    "import shutil\n",
    "import plotly.graph_objects as go\n",
    "from jw_utils import ncbi_datasets_fxs as nfx\n",
    "from jw_utils import jw_ncbi_taxonomy as jnt\n",
    "from ete3 import ncbi_taxonomy\n",
    "ncbi_tax = ncbi_taxonomy.NCBITaxa()\n",
    "\n",
    "colors = {\n",
    "    't_blue': 'rgba(0,102,153,255)',\n",
    "    't_green': 'rgba(61,174,43,255)',\n",
    "    't_red': 'rgb(255,20,20)',\n",
    "    'seagreen':'#2c8d42',\n",
    "    'orange':'#F9B257'}"
   ]
  },
  {
   "cell_type": "markdown",
   "metadata": {},
   "source": [
    "### Setup for starting a orthofinder dash app    \n",
    "***This is assuming you have run orthofinder on a set of proteomes and have the resulting    orthofinder data in a folder called Proteomes  \n",
    "1. CHANGE WORKING DIRECTORY of this notebook TO dash_app main folder   \n",
    "2. make a directory inside the main /dash_app folder called data (dash_app/data).\n",
    "    - `$ !mkdir ./data`\n",
    "    - `$ !mkdir ./data/Proteomes`\n",
    "    - `$ !mv ./Proteomes/* ./data/Proteomes`\n",
    "\n",
    "3. Place the ncbi_dataset/data containing all the data downloaded from ncbi into ./data\n",
    "    - dash_app/data/ncbi_datasets/data  \n",
    "4. You will need to generate a summary file of all genomes. Using the terminal is the most   \n",
    "reliable way I've found to do this.  \n",
    "    - `$ !datasets summary genome accession --inputfile accessions.txt > summaries.json`\n",
    " \n",
    " 4) Run `dap.run_all()` in the cell below. If you haven't generated a summary file  \n",
    " then an error will be thrown, and code to get summary file via ncbi datasets cli will be  printed out\n"
   ]
  },
  {
   "cell_type": "markdown",
   "metadata": {},
   "source": [
    "### Check that species in different directories are equivalent"
   ]
  },
  {
   "cell_type": "code",
   "execution_count": 23,
   "metadata": {
    "tags": []
   },
   "outputs": [],
   "source": [
    "def check_for_equivalent_species():\n",
    "    if not os.path.exists('./data/summary_data/'):\n",
    "        os.makedirs('./data/summary_data/')\n",
    "    if not os.path.exists('./accessions.txt'):\n",
    "        raise FileNotFoundError('\"./accessions.txt\" could not be found.')\n",
    "    proteomes = [f[:15] for f in os.listdir('./data/Proteomes') if f.endswith('.faa')]\n",
    "    assemblies = [f[:15] for f in os.listdir('./data/ncbi_dataset/data') if f.startswith('GC')]\n",
    "    with open('./accessions.txt', 'r') as f:\n",
    "        accessions = [line.strip() for line in f]\n",
    "    if not sorted(accessions) == sorted(assemblies):\n",
    "        raise Exception(f'\"./data/ncbi_dataset/data\" and \"./accessions.txt\" are not equivalent') \n",
    "    elif not sorted(assemblies) == sorted(proteomes):\n",
    "        raise Exception(f'\"./data/ncbi_dataset/data\" and \"/data/Proteomes\" are not equivalent')\n",
    "    elif not sorted(accessions) == sorted(proteomes):\n",
    "        raise Exception(f'\"./accessions.txt\" and \"/data/Proteomes\" are not equivalent')\n",
    "    else:\n",
    "        print('All directories contain equivalent species')\n",
    "    shutil.copy('./accessions.txt', './data/summary_data/accessions.txt')\n",
    "    \n",
    "accs_p = [a[:15] for a in os.listdir('./data/Proteomes/') if a.startswith('GC')]\n",
    "acc_assemblies = [f[:15] for f in os.listdir('./data/ncbi_dataset/data') if f.startswith('GC')]\n",
    "with open('./accessions.txt', 'r') as f:\n",
    "    accs_a = []\n",
    "    for line in f: \n",
    "        accs_a.append(line.strip())\n",
    "with open('./accessions.txt', 'w') as f:\n",
    "    accs_a = list(set(accs_a))\n",
    "    for acc in accs_a:\n",
    "        f.write(f'{acc}\\n')\n",
    "\n",
    "\n",
    "\n",
    "for acc in accs_p:\n",
    "    if acc not in accs_a:\n",
    "        print(f'Proteome {acc} not in ./accessions.txt')\n",
    "for acc in accs_a:\n",
    "    if acc not in accs_p:\n",
    "        print(f'Assession {acc} from ./assessions.txt  not in ./data/Proteomes/')"
   ]
  },
  {
   "cell_type": "code",
   "execution_count": 24,
   "metadata": {
    "tags": []
   },
   "outputs": [
    {
     "name": "stdout",
     "output_type": "stream",
     "text": [
      "All directories contain equivalent species\n",
      "New version of client (14.28.0) available at https://ftp.ncbi.nlm.nih.gov/pub/datasets/command-line/LATEST/mac/datasets\n"
     ]
    }
   ],
   "source": [
    "check_for_equivalent_species()\n",
    "!datasets summary genome accession --inputfile ./data/summary_data/accessions.txt > ./data/summary_data/summaries.json"
   ]
  },
  {
   "cell_type": "markdown",
   "metadata": {},
   "source": [
    "## Generate data files for dash app\n",
    "### !!Change path for latest orthofinder results!!"
   ]
  },
  {
   "cell_type": "code",
   "execution_count": 25,
   "metadata": {
    "tags": []
   },
   "outputs": [],
   "source": [
    "if not os.path.exists('./data/Proteomes/OrthoFinder'):\n",
    "    os.mkdir('./data/Proteomes/OrthoFinder')"
   ]
  },
  {
   "cell_type": "code",
   "execution_count": 26,
   "metadata": {
    "tags": []
   },
   "outputs": [
    {
     "name": "stderr",
     "output_type": "stream",
     "text": [
      "/Users/jonwinkelman/Trestle_projects/Palmer_lab/baumannii_genome_deduplication/genome_dedup_dash_app/orthofinder_utils/dash_app_preprocess.py:527: DtypeWarning: Columns (42,52,93,118,121,178,183) have mixed types. Specify dtype option on import or set low_memory=False.\n",
      "  HOGs_df = pd.read_csv(path, sep = '\\t')\n"
     ]
    },
    {
     "name": "stdout",
     "output_type": "stream",
     "text": [
      "all checks produce equivalent assembly identifiers\n"
     ]
    },
    {
     "name": "stderr",
     "output_type": "stream",
     "text": [
      "/Users/jonwinkelman/Trestle_projects/Palmer_lab/baumannii_genome_deduplication/genome_dedup_dash_app/orthofinder_utils/dash_app_preprocess.py:93: DtypeWarning: Columns (1,2,3,40,50,91,116,119,134,176,181,193,217) have mixed types. Specify dtype option on import or set low_memory=False.\n",
      "  orth_assemblies = list(pd.read_csv(os.path.join(path_to_results,\n"
     ]
    }
   ],
   "source": [
    "path_to_parent=os.getcwd()\n",
    "path_to_results = './data/Proteomes/OrthoFinder/Results_May12_2'\n",
    "dap.run_all(path_to_results)"
   ]
  },
  {
   "cell_type": "markdown",
   "metadata": {
    "tags": []
   },
   "source": [
    "# Three more files to make:  \n",
    "1. json annotation file. THis is the default if you want any extra annoations on internal nodes\n",
    "2. json file with  "
   ]
  },
  {
   "cell_type": "markdown",
   "metadata": {},
   "source": [
    "### Make tree annotation file"
   ]
  },
  {
   "cell_type": "code",
   "execution_count": 27,
   "metadata": {
    "tags": []
   },
   "outputs": [],
   "source": [
    "sp_tree_path = './data/Species_Tree/SpeciesTree_rooted_node_labels.txt'\n",
    "path_to_summary ='./data/summary_data/summaries.json'\n",
    "\n",
    "def make_internal_node_d(tree):\n",
    "    \"\"\"\"\"\"\n",
    "    internal_node_dict = {}\n",
    "    for node in tree.get_nonterminals():\n",
    "        internal_node_dict[node.name] = {'name':node.name, 'rank':'', 'taxid':'', 'sci_name':''}\n",
    "    for node in tree.get_terminals():\n",
    "            internal_node_dict[node.name] = {'name':node.name}\n",
    "    internal_node_dict\n",
    "\n",
    "    with open('./data/summary_data/internal_node_dict.json', 'w') as f:\n",
    "        json.dump(internal_node_dict, f)\n",
    "    internal_node_dict\n",
    "\n",
    "make_internal_node_d(Phylo.read(sp_tree_path, format='newick'))"
   ]
  },
  {
   "cell_type": "markdown",
   "metadata": {},
   "source": [
    "### Make node rank lineage file"
   ]
  },
  {
   "cell_type": "code",
   "execution_count": 28,
   "metadata": {
    "tags": []
   },
   "outputs": [],
   "source": [
    "def accession_taxid_d(path_to_summary):\n",
    "    \"\"\"Return simplified dict {acc:taxid} from ncbi summary.json.\"\"\"\n",
    "    \n",
    "    with open(path_to_summary, 'r') as f:\n",
    "        summary_d = nfx.make_summary_dict(json.load(f))\n",
    "    acc_tax_d ={}\n",
    "    for acc in summary_d:\n",
    "        acc_tax_d[acc] = summary_d[acc]['org']['tax_id']\n",
    "    return acc_tax_d\n",
    "\n",
    "\n",
    "\n",
    "def get_rank_sciname_for_each_leaf(tree, rank, path_to_summary):\n",
    "    \"\"\"Return a dict with a sci_name at a given rank for each leaf {leaf:sci_name}\n",
    "    e.g. given rank phylum: return {GCF_######:'Proteobacteria'}\n",
    "    \"\"\"\n",
    "\n",
    "    acc_tax_d =  accession_taxid_d(path_to_summary)   \n",
    "    leaf_rank_sciname = {}\n",
    "    for leaf in tree.get_terminals():\n",
    "        leaf_taxid = acc_tax_d[leaf.name]\n",
    "        leaf_rank_taxid = jnt.get_lineage_rank_dict(leaf_taxid).get(rank)\n",
    "        if leaf_rank_taxid:\n",
    "            leaf_rank_sciname[leaf.name] = list(ncbi_tax.get_taxid_translator([leaf_rank_taxid]).values())[0]\n",
    "        else:\n",
    "            leaf_rank_sciname[leaf.name] = None\n",
    "    return leaf_rank_sciname\n",
    "\n",
    "\n",
    "\n",
    "def get_list_of_all_nodes(subtree, clades=None):\n",
    "    \"\"\"Get a list of all clade objects, including leaves, in a Bio.Phylo tree\"\"\"\n",
    "    if not isinstance(subtree, (Phylo.Newick.Tree, Phylo.Newick.Clade)):\n",
    "        raise TypeError(f'object entered needs to be of type {Phylo.Newick.Tree} or {Phylo.Newick.Clade}, you entered {type(subtree)}' )\n",
    "        \n",
    "    if clades is None:\n",
    "        clades=[]\n",
    "    for cl in subtree.root:\n",
    "        clades.append(cl)\n",
    "        if cl.is_terminal():\n",
    "             clades.append(cl)\n",
    "        else:\n",
    "            get_list_of_all_nodes(cl, clades)\n",
    "    return clades\n",
    "\n",
    "\n",
    "\n",
    "def get_nodes_assoc_with_ranks(tree, rank, path_to_summary):\n",
    "    \"\"\"\"\"\"\n",
    "    leaf_rank_scinames_d = get_rank_sciname_for_each_leaf(tree, rank, path_to_summary)\n",
    "    node_dict = {}\n",
    "    for cl in get_list_of_all_nodes(tree):\n",
    "        #check to see if all leaves in clade have same sci_name, if so then clade is that sci_name\n",
    "        leaves =  cl.get_terminals()\n",
    "        sci_names = []\n",
    "\n",
    "        for leaf in leaves:\n",
    "            sci_names.append(leaf_rank_scinames_d[leaf.name])\n",
    "        sci_names = list(set(sci_names))\n",
    "        if len(sci_names) == 1:\n",
    "            node_dict[cl.name] = sci_names[0]\n",
    "    unique_scinames = set(list(node_dict.values()))\n",
    "    rank_nodes = {n:[] for n in unique_scinames}\n",
    "    for node, sci_name in node_dict.items():\n",
    "        rank_nodes[sci_name].append(node)\n",
    "    return rank_nodes\n",
    "\n",
    "\n",
    "def get_anc_node_each_rank(tree, rank, path_to_summary):\n",
    "    \"\"\"\"\"\"\n",
    "    rank_nodes = get_nodes_assoc_with_ranks(tree, rank, path_to_summary)\n",
    "    mrca_clades = {}\n",
    "    for rank_name, clades in rank_nodes.items():\n",
    "        leaves = []\n",
    "        for cl in clades:\n",
    "            clade = tree.find_any(cl) \n",
    "            if clade.is_terminal():\n",
    "                leaves.append(clade)\n",
    "        mrca_clade  = tree.is_monophyletic(leaves)\n",
    "        if mrca_clade:\n",
    "            mrca_clades[rank_name] = mrca_clade.name\n",
    "        else:\n",
    "            mrca_clades[rank_name] = 'not monophyletic'\n",
    "    return mrca_clades\n",
    "\n",
    "\n",
    "def get_mrca_rank_dict(tree, path_to_summary):\n",
    "    \"\"\"Writs\"\"\"\n",
    "    rank_mrca_clades_d = {}\n",
    "    available_ranks = ['no rank', 'superkingdom','family', 'genus', 'phylum', 'class', 'order', 'species']\n",
    "    for rank in available_ranks:\n",
    "        mrca_clades = get_anc_node_each_rank(tree, rank, path_to_summary)\n",
    "        rank_mrca_clades_d[rank] = mrca_clades\n",
    "    return rank_mrca_clades_d\n",
    "\n",
    "\n",
    "def write_mrcaClade_file(out_filepath, tree_path, summary_path):\n",
    "    tree = Phylo.read(tree_path, format='newick')\n",
    "    d = get_mrca_rank_dict(tree, summary_path)\n",
    "    with open(out_filepath, 'w') as f:\n",
    "        json.dump(d, f)\n",
    "        \n",
    "def read_mrca_file():\n",
    "    with open('./ranks_mrca_clades.json', 'r') as f:\n",
    "        return json.load(f)\n"
   ]
  },
  {
   "cell_type": "code",
   "execution_count": 29,
   "metadata": {
    "tags": []
   },
   "outputs": [
    {
     "data": {
      "text/plain": [
       "{'no rank': {'cellular organisms': 'N0'},\n",
       " 'superkingdom': {'Bacteria': 'N0'},\n",
       " 'family': {'Moraxellaceae': 'N0'},\n",
       " 'genus': {'Acinetobacter': 'N0'},\n",
       " 'phylum': {'Pseudomonadota': 'N0'},\n",
       " 'class': {'Gammaproteobacteria': 'N0'},\n",
       " 'order': {'Moraxellales': 'N0'},\n",
       " 'species': {'Acinetobacter colistiniresistens': 'GCF_000413935.1',\n",
       "  'Acinetobacter baumannii': 'N4',\n",
       "  'Acinetobacter gyllenbergii': 'GCF_001682515.1',\n",
       "  'Acinetobacter baylyi': 'GCF_000046845.1',\n",
       "  'Acinetobacter nosocomialis': 'GCF_005281455.1'}}"
      ]
     },
     "execution_count": 29,
     "metadata": {},
     "output_type": "execute_result"
    }
   ],
   "source": [
    "sp_tree_path = './data/Species_Tree/SpeciesTree_rooted_node_labels.txt'\n",
    "path_to_summary ='./data/summary_data/summaries.json'\n",
    "\n",
    "tree = Phylo.read(sp_tree_path, format='newick')\n",
    "write_mrcaClade_file('ranks_mrca_clades.json', sp_tree_path, path_to_summary)\n",
    "rank_mrca_clades_d = get_mrca_rank_dict(tree, path_to_summary)\n",
    "\n",
    "rank_mrca_clades_d = read_mrca_file()\n",
    "rank_mrca_clades_d"
   ]
  },
  {
   "cell_type": "code",
   "execution_count": null,
   "metadata": {
    "tags": []
   },
   "outputs": [],
   "source": [
    "\n"
   ]
  },
  {
   "cell_type": "code",
   "execution_count": null,
   "metadata": {
    "tags": []
   },
   "outputs": [],
   "source": []
  },
  {
   "cell_type": "code",
   "execution_count": null,
   "metadata": {
    "tags": []
   },
   "outputs": [],
   "source": [
    "\n"
   ]
  },
  {
   "cell_type": "code",
   "execution_count": null,
   "metadata": {},
   "outputs": [],
   "source": []
  },
  {
   "cell_type": "code",
   "execution_count": null,
   "metadata": {},
   "outputs": [],
   "source": []
  }
 ],
 "metadata": {
  "kernelspec": {
   "display_name": "Python 3 (ipykernel)",
   "language": "python",
   "name": "python3"
  },
  "language_info": {
   "codemirror_mode": {
    "name": "ipython",
    "version": 3
   },
   "file_extension": ".py",
   "mimetype": "text/x-python",
   "name": "python",
   "nbconvert_exporter": "python",
   "pygments_lexer": "ipython3",
   "version": "3.10.8"
  }
 },
 "nbformat": 4,
 "nbformat_minor": 4
}
