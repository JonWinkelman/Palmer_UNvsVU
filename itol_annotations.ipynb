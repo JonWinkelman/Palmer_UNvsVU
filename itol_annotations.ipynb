{
 "cells": [
  {
   "cell_type": "code",
   "execution_count": 1,
   "id": "ff30ab8c-8095-4578-9096-d4708c7c5218",
   "metadata": {
    "tags": []
   },
   "outputs": [],
   "source": [
    "from orthofinder_utils import dash_ortho_parser as dop\n",
    "from orthofinder_utils import itol_annotations as itol_annot\n",
    "from jw_utils import parse_gff as pgf\n",
    "from jw_utils import parse_fasta as pfa\n",
    "import os\n",
    "import pandas as pd\n",
    "import json\n",
    "from Bio import Phylo\n",
    "import shutil\n",
    "import plotly.graph_objects as go\n",
    "from jw_utils import plotly_preferences as pprefs"
   ]
  },
  {
   "cell_type": "code",
   "execution_count": 2,
   "id": "70c286aa-73bd-4669-b1be-ea9f0bf5e67f",
   "metadata": {
    "tags": []
   },
   "outputs": [],
   "source": [
    "rgb_to_hex = {'rgba(132,137,145,1)':'#848991',\n",
    " 'rgb(0,208,132)':'#00d084',\n",
    " 'rgb(0,122,255)':'#007aff',\n",
    " 'rgb(171,184,195)':'#abb8c3',\n",
    " 'rgb(255,105,0)':'#ff6900',\n",
    " 'rgb(252,185,0)':'#fcb900',\n",
    " 'rgb(123,220,181)':'#7bdcb5',\n",
    " 'rgb(142,209,252)':'#8ed1fc',\n",
    " 'rgb(6,147,227)':'#0693e3',\n",
    " 'rgb(155,81,224)':'#9b51e0',\n",
    " 'rgb(207,46,46)':'#cf2e2e',\n",
    " 'rgb(247,141,167)':'#f78da7'}\n",
    "diverging_colors = [\n",
    "    # \"#4E79A7\", \"#A0CBE8\", \"#F28E2B\", \"#FFBE7D\", \"#59A14F\",\n",
    "    # \"#8CD17D\", \"#B6992D\", \"#FDCB9E\", \"#499894\", \"#86BCB6\",\n",
    "    \"#E15759\", \"#FF9D9A\", \"#79706E\", \"#BAB0AC\", \"#D37295\",\n",
    "    \"#FABFD2\", \"#B07AA1\", \"#D4A5A5\", \"#F7F7F7\", \"#CCCCCC\",\n",
    "    \"#0072B2\", \"#009E73\", \"#D55E00\", \"#CC79A7\", \"#56B4E9\",\n",
    "    \"#009E73\", \"#F0E442\", \"#0072B2\", \"#D55E00\", \"#CC79A7\",\n",
    "    \"#56B4E9\", \"#009E73\", \"#F0E442\", \"#0072B2\", \"#D55E00\",\n",
    "    \"#CC79A7\", \"#56B4E9\", \"#009E73\", \"#F0E442\", \"#0072B2\",\n",
    "    \"#D55E00\", \"#CC79A7\", \"#56B4E9\", \"#009E73\", \"#F0E442\",\n",
    "    \"#0072B2\", \"#D55E00\", \"#CC79A7\", \"#56B4E9\", \"#009E73\"\n",
    "]\n",
    "\n",
    "hex_colors = list(rgb_to_hex.values())"
   ]
  },
  {
   "cell_type": "code",
   "execution_count": 3,
   "id": "81fe315f-ba77-448d-8c72-80aebd42a9d8",
   "metadata": {
    "tags": []
   },
   "outputs": [
    {
     "data": {
      "text/plain": [
       "'Acinetobacter baumannii K09-14'"
      ]
     },
     "execution_count": 3,
     "metadata": {},
     "output_type": "execute_result"
    }
   ],
   "source": [
    "dop_obj = dop.DashOrthoParser('./data',tax_level='N3')\n",
    "dop_obj.accession_to_name['GCF_008632635.1']"
   ]
  },
  {
   "cell_type": "code",
   "execution_count": 4,
   "id": "6bff8f7a-e22e-4769-84be-bc1071cd08dc",
   "metadata": {
    "tags": []
   },
   "outputs": [],
   "source": [
    "def get_nearby_genes_in_cluster():\n",
    "    \"\"\"\"\"\"\n",
    "    genes = []\n",
    "    base = 'KZA74_0'\n",
    "    p2g_d = pgf.make_gene2prot_dict('./data/ncbi_dataset/data/GCA_019356215.1/genomic.gff')\n",
    "    cluster_proteins = []\n",
    "    for i in range(9240,9410, 5):\n",
    "        gene = base+str(i)\n",
    "        genes.append(gene)\n",
    "        cluster_proteins.append(p2g_d.get('gene-'+gene))\n",
    "    prot_to_HOG_d_all = dop_obj.gene_HOG_dict('GCA_019356215.1')\n",
    "    gene_to_HOG_d = {\n",
    "        prot:prot_to_HOG_d_all.get(prot.strip('cds-')) for prot in cluster_proteins\n",
    "        if prot_to_HOG_d_all.get(prot.strip('cds-'))\n",
    "        }\n",
    "    return gene_to_HOG_d\n",
    " \n",
    "\n",
    "gene_to_HOG_d = get_nearby_genes_in_cluster()  \n",
    "HOGs_to_gene_d = {v:k for k,v in gene_to_HOG_d.items()}"
   ]
  },
  {
   "cell_type": "markdown",
   "id": "be540f62-a849-4377-8e77-c1043d340035",
   "metadata": {
    "tags": []
   },
   "source": [
    "### Make itol annotation file for presence/absence of genes in cluster Accessory gene cluster 44 kb"
   ]
  },
  {
   "cell_type": "code",
   "execution_count": 5,
   "id": "80daf0de-ac58-4201-8e58-b5ad9d88e050",
   "metadata": {
    "tags": []
   },
   "outputs": [],
   "source": [
    "tree = Phylo.read('./data/Species_Tree/SpeciesTree_rooted_node_labels.txt', format='newick')\n",
    "HOG_list, binary_count_dict = itol_annot.make_binary_count_dict(tree, gene_to_HOG_d.values(), dop_obj)"
   ]
  },
  {
   "cell_type": "code",
   "execution_count": null,
   "id": "4d46af72-99a7-4cae-9601-66a1267b5901",
   "metadata": {
    "tags": []
   },
   "outputs": [],
   "source": []
  },
  {
   "cell_type": "code",
   "execution_count": 6,
   "id": "300e5f42-f826-4dd9-b1c9-77b76f40e14b",
   "metadata": {},
   "outputs": [],
   "source": [
    "name_list = [HOGs_to_gene_d[HOG] for HOG in HOG_list]\n",
    "itol_annot.make_multi_itol_bargraph_dataset('./itol_dataset_multi.txt',binary_count_dict, name_list,hexcolors=diverging_colors)"
   ]
  },
  {
   "cell_type": "code",
   "execution_count": 7,
   "id": "88849279-ea20-463d-a6a2-652b836cffad",
   "metadata": {
    "tags": []
   },
   "outputs": [],
   "source": [
    "relabel_dict = {acc:name.replace('Acinetobacter','A.') for acc, name in dop_obj.accession_to_name.items()}\n",
    "itol_annot.relabel_itol_treeleafs(tree, relabel_dict, './itol_annotations_relabel.txt')"
   ]
  },
  {
   "cell_type": "markdown",
   "id": "1d5ca794-f3fd-486b-a161-feaec3d721de",
   "metadata": {},
   "source": [
    "### make itol UN vs VU allele annotation file for genes of interest"
   ]
  },
  {
   "cell_type": "code",
   "execution_count": 8,
   "id": "6d689421-980d-493c-b2be-53487a214691",
   "metadata": {
    "tags": []
   },
   "outputs": [],
   "source": [
    "LP_acc = dop_obj.name_to_accession['Acinetobacter baumannii ATCC 17978-mff']\n",
    "gene_d = dop_obj.gene_HOG_dict(LP_acc)\n",
    "gene_2_prot_d = pgf.make_gene2prot_dict(f'./data/ncbi_dataset/data/{LP_acc}/genomic.gff')\n",
    "gene_ortho_d = {}\n"
   ]
  },
  {
   "cell_type": "code",
   "execution_count": 9,
   "id": "d324f240-e01e-4c28-8a66-cdf8fcc73b77",
   "metadata": {
    "tags": []
   },
   "outputs": [
    {
     "data": {
      "text/plain": [
       "{'ACX60_05080': 'N3.HOG0002063',\n",
       " 'ACX60_00950': 'N3.HOG0000757',\n",
       " 'ACX60_11495': 'N3.HOG0003331',\n",
       " 'ACX60_07925': 'N3.HOG0001797',\n",
       " 'ACX60_10365': 'N3.HOG0001220',\n",
       " 'ACX60_05695': 'N3.HOG0001748'}"
      ]
     },
     "execution_count": 9,
     "metadata": {},
     "output_type": "execute_result"
    }
   ],
   "source": [
    "genes_to_check = {'ACX60_00950','ACX60_05080', 'ACX60_07925', 'ACX60_10365','ACX60_11495', 'ACX60_05695'}\n",
    "#removed 'ACX60_05895' from genes_to_check\n",
    "for gene in genes_to_check:\n",
    "    prot = gene_2_prot_d['gene-'+gene]\n",
    "    gene_ortho_d[gene] = gene_d[prot.strip('cds-')]   \n",
    "gene_ortho_d"
   ]
  },
  {
   "cell_type": "code",
   "execution_count": 10,
   "id": "2643509f-7ff1-4770-af73-a6b99be58595",
   "metadata": {
    "tags": []
   },
   "outputs": [],
   "source": [
    "def make_fasta_files(gene_ortho_d, output_dir):\n",
    "    \"\"\"\"\"\"\n",
    "    if not os.path.exists(output_dir):  \n",
    "        os.makedirs(output_dir)   \n",
    "    for HOG in gene_ortho_d.values():\n",
    "        fasta_d = dop_obj.get_HOG_protein_seqs(HOG)['Protein_seq'].to_dict()\n",
    "        pfa.write_to_fasta(fasta_d,f'{output_dir}/{HOG}.faa')\n",
    "output_dir  = './UN_vs_VU_variants/fasta_files'\n",
    "make_fasta_files(gene_ortho_d=gene_ortho_d, output_dir= output_dir)"
   ]
  },
  {
   "cell_type": "markdown",
   "id": "a2d0be65-bd7f-4266-baa3-3fa007b05ac5",
   "metadata": {
    "tags": []
   },
   "source": [
    "### Align protein seqs from each HOG of interest with muscle"
   ]
  },
  {
   "cell_type": "markdown",
   "id": "c9a42667-247b-4ef5-ad7b-e6ac7df91004",
   "metadata": {},
   "source": [
    "bash script for running muscle on all .faa file in dir  \n",
    "`$ cd dir/with/fastas`  \n",
    "```\n",
    "for file in ./*.faa;  \n",
    "    do    \n",
    "    base=\"${file%.faa}\"  \n",
    "    out_file=${base}.afa   \n",
    "    echo $out_file   \n",
    "    muscle -align $file -output $out_file;   \n",
    "    done\n",
    "```"
   ]
  },
  {
   "cell_type": "code",
   "execution_count": 11,
   "id": "a8014cdc-b8c4-419d-b0cf-92da74f9b9e7",
   "metadata": {
    "tags": []
   },
   "outputs": [],
   "source": [
    "def make_HOG_protein_align_files(gene_ortho_d, output_dir):\n",
    "    if not os.path.exists(output_dir):  \n",
    "        os.makedirs(output_dir)\n",
    "    for HOG in gene_ortho_d.values():\n",
    "        df = dop_obj.get_HOG_protein_seqs(HOG)\n",
    "        d = {prot_id:seq for prot_id,seq in zip(df.index, df['Protein_seq'])}\n",
    "        pfa.write_to_fasta(d,f'{output_dir}/{HOG}.faa')\n",
    "        input_file = f'{output_dir}/{HOG}.faa'\n",
    "        output_file = input_file.replace('faa', 'afa')\n",
    "        !muscle -in $input_file -out $output_file \n",
    "\n",
    "#make_HOG_protein_align_files(gene_ortho_d=gene_ortho_d, output_dir=output_dir)"
   ]
  },
  {
   "cell_type": "code",
   "execution_count": 12,
   "id": "0e5fcd6d-c291-4776-9870-b297811ac0fa",
   "metadata": {
    "tags": []
   },
   "outputs": [
    {
     "data": {
      "text/plain": [
       "{'ACX60_05080': {'VU': 227, 'UN': 1, 'Other': 0},\n",
       " 'ACX60_00950': {'VU': 229, 'UN': 1, 'Other': 0},\n",
       " 'ACX60_11495': {'VU': 184, 'UN': 1, 'Other': 0},\n",
       " 'ACX60_07925': {'VU': 228, 'UN': 1, 'Other': 0},\n",
       " 'ACX60_10365': {'VU': 2, 'UN': 228, 'Other': 0},\n",
       " 'ACX60_05695': {'VU': 204, 'UN': 1, 'Other': 24}}"
      ]
     },
     "execution_count": 12,
     "metadata": {},
     "output_type": "execute_result"
    }
   ],
   "source": [
    "gene_var_d = {\n",
    " 'ACX60_00950': {'VU':'A382', 'UN':'T382'},\n",
    " 'ACX60_07925': {'VU':'M78', 'UN':'T78'},\n",
    " 'ACX60_05695': {'VU':'G12', 'UN':'D12'},\n",
    " 'ACX60_11495': {'VU':'T2', 'UN':'K2'},\n",
    " 'ACX60_05080': {'VU':'N258', 'UN':'I258'},\n",
    " 'ACX60_10365': {'VU':'F806', 'UN':'V806'}, ## gaps in alignment unaligned 17978-mff = position 799\n",
    "}\n",
    "\n",
    "#################################################################################### \n",
    "# 1 means VU variant,0 means UN variant, -1 means neither variant or absent altogether\n",
    "####################################################################################\n",
    "all_leafnames = [cl.name for cl in tree.get_terminals()]\n",
    "variants_tally  = {}\n",
    "d_nested = {gene:{} for gene in gene_ortho_d}\n",
    "count_d = {gene:{} for gene in gene_var_d}\n",
    "for gene, HOG in gene_ortho_d.items():\n",
    "    VU_var = gene_var_d[gene]['VU']\n",
    "    UN_var = gene_var_d[gene]['UN']\n",
    "    d = pfa.get_seq_dict(f'./UN_vs_VU_variants/fasta_files/{HOG}.afa')\n",
    "    VU_tally = 0 \n",
    "    UN_tally = 0 \n",
    "    other_tally = 0\n",
    "    acc_prot_d = {p[:15][::-1].replace('_','.',1)[::-1]:p[16:] for p in list(d.keys())}\n",
    "    #for protein in d:\n",
    "    for acc in all_leafnames:\n",
    "        if not acc_prot_d.get(acc):\n",
    "            acc = acc[:-2] +'_' + acc[-1]\n",
    "            count_d[gene][acc] = -1\n",
    "        else:\n",
    "            protein =  acc[::-1].replace('.','_',1)[::-1]+'_'+ acc_prot_d[acc]\n",
    "            pos =  int(VU_var[1:])-1\n",
    "            var = d[protein][pos]\n",
    "            #print(gene, var, 'UN',UN_var[0], 'VU', VU_var[0])\n",
    "            if var == VU_var[0]:\n",
    "                VU_tally +=1\n",
    "                count_d[gene][protein] = 1\n",
    "            elif var ==  UN_var[0]:\n",
    "                UN_tally +=1\n",
    "                count_d[gene][protein] = 0\n",
    "            else:\n",
    "                #print(HOG,protein, var)\n",
    "                other_tally += 1\n",
    "                count_d[gene][protein] = -1\n",
    "            \n",
    "    variants_tally[gene] = {'VU':VU_tally, 'UN': UN_tally, 'Other': other_tally}\n",
    "variants_tally"
   ]
  },
  {
   "cell_type": "code",
   "execution_count": 13,
   "id": "630a0716-8d00-4d15-af64-95626e88422f",
   "metadata": {
    "tags": []
   },
   "outputs": [],
   "source": [
    "def add_clsC2_to_dict():\n",
    "    \"\"\"\"\"\"\n",
    "    count_d['clsC2'] = {}\n",
    "    clsC2_prots = dop_obj.all_prots_in_HOG('N3.HOG0003090')\n",
    "    for acc in all_leafnames:\n",
    "        acc = acc[::-1].replace('.','_',1)[::-1]\n",
    "        count_d['clsC2'][acc] = 0 \n",
    "    for acc in all_leafnames:\n",
    "        for prot in clsC2_prots:\n",
    "            if prot.startswith(acc[:13]):\n",
    "                acc = acc[::-1].replace('.','_',1)[::-1]\n",
    "                count_d['clsC2'][acc] = 1\n",
    "    return count_d\n",
    "count_d = add_clsC2_to_dict()"
   ]
  },
  {
   "cell_type": "code",
   "execution_count": 69,
   "id": "4f32ac83-3360-4f47-a70b-d9913cbd2fa3",
   "metadata": {
    "scrolled": true
   },
   "outputs": [
    {
     "data": {
      "text/plain": [
       "Index(['ACX60_00950', 'ACX60_07925', 'ACX60_05695', 'ACX60_11495',\n",
       "       'ACX60_05080', 'ACX60_10365', 'clsC2', 'strain_name'],\n",
       "      dtype='object')"
      ]
     },
     "execution_count": 69,
     "metadata": {},
     "output_type": "execute_result"
    }
   ],
   "source": [
    "\n",
    "def flatten_nested(nested_d):\n",
    "    \"\"\"\"\"\"\n",
    "    name_list = []\n",
    "    flattened_d = {acc:[] for acc in [cl.name for cl in tree.get_terminals()]}\n",
    "    for name, d in nested_d.items():\n",
    "        name_list.append(name)\n",
    "        for leaf, count in d.items():\n",
    "            leaf = leaf[:15][::-1].replace('_','.',1)[::-1]\n",
    "            flattened_d[leaf].append(count)\n",
    "    return flattened_d, name_list\n",
    "        \n",
    "\n",
    "#######################\n",
    "# change 0 to -1 in 'ACX60_05695', as there is only one UN variant, \n",
    "# we will change all empyty boxes to black or something to denote 'other'\n",
    "\n",
    "#######\n",
    "for acc in count_d['ACX60_05695']:\n",
    "    if count_d['ACX60_05695'][acc] == -1:\n",
    "        count_d['ACX60_05695'][acc] = 0\n",
    "for acc in count_d['ACX60_05080']:\n",
    "    if count_d['ACX60_05080'][acc] == -1:\n",
    "        count_d['ACX60_05080'][acc] = 1\n",
    "\n",
    "flattened_d, name_list = flatten_nested(count_d)\n",
    "strain_data_counts_df.columns"
   ]
  },
  {
   "cell_type": "code",
   "execution_count": 84,
   "id": "69e49908-a64b-48ff-a8a3-764c10d08a9d",
   "metadata": {
    "scrolled": true,
    "tags": []
   },
   "outputs": [],
   "source": [
    "strain_data_counts_df = pd.DataFrame(flattened_d).transpose()\n",
    "strain_data_counts_df.columns = name_list\n",
    "names  = []\n",
    "for acc in strain_data_counts_df.index:\n",
    "    names.append(dop_obj.accession_to_name[acc])\n",
    "strain_data_counts_df['strain_name'] = names\n",
    "strain_data_counts_df = strain_data_counts_df[['strain_name','ACX60_00950', 'ACX60_07925', 'ACX60_05695', 'ACX60_11495','ACX60_05080', 'ACX60_10365', 'clsC2']]\n",
    "strain_data_counts_df.to_csv('./UN_vs_VU_variants/summary_data/strain_data_counts.csv')"
   ]
  },
  {
   "cell_type": "code",
   "execution_count": 15,
   "id": "1b8931ad-caed-48e8-b74b-4a369550c089",
   "metadata": {
    "tags": []
   },
   "outputs": [],
   "source": [
    "colors = [\n",
    "    \"#1f77b4\",  # Blue\n",
    "    \"#ff7f0e\",  # Orange\n",
    "    \"#2ca02c\",  # Green\n",
    "    \"#d62728\",  # Red\n",
    "    \"#9467bd\",  # Purple\n",
    "    \"#8c564b\",  # Brown\n",
    "    \"#17becf\"   # Cyan\n",
    "]\n",
    "\n",
    "\n",
    "itol_annot.make_itol_binary_trait_dataset(\n",
    "            outfile_path = './UN_vs_VU_variants/itol_annotations/itol_binary_traits.txt', \n",
    "            count_dict = flattened_d, \n",
    "            name_list = list(count_d.keys()),\n",
    "            hexcolors=colors)"
   ]
  },
  {
   "cell_type": "code",
   "execution_count": null,
   "id": "3806b6b3-90f1-433c-9b75-9b22684d6ce9",
   "metadata": {
    "scrolled": true,
    "tags": []
   },
   "outputs": [],
   "source": []
  },
  {
   "cell_type": "code",
   "execution_count": 17,
   "id": "3f9fcf9e-0959-4a10-be9e-6179ec8224f3",
   "metadata": {},
   "outputs": [],
   "source": []
  },
  {
   "cell_type": "code",
   "execution_count": 51,
   "id": "6f97a758-1468-40a2-8d3d-e0bca6528a5e",
   "metadata": {},
   "outputs": [],
   "source": [
    "import plotly.graph_objects as go\n",
    "import pandas as pd\n",
    "\n",
    "# dictionary\n",
    "variants_tally['ClsC2'] = {'VU': 22, 'UN': 207}\n",
    "# Convert dictionary to a DataFrame\n",
    "df = pd.DataFrame(variants_tally).T\n",
    "\n",
    "# Calculate percentages\n",
    "total_species=229\n",
    "df_percent = df.div(total_species) * 100\n",
    "\n",
    "# Create a stacked bar graph using plotly.graph_objects\n",
    "fig = go.Figure()\n",
    "\n",
    "for col in df_percent.columns:\n",
    "    fig.add_trace(go.Bar(\n",
    "        x=df_percent.index,\n",
    "        y=df_percent[col],\n",
    "        name=col\n",
    "    ))"
   ]
  },
  {
   "cell_type": "code",
   "execution_count": 36,
   "id": "3abef1f9-b367-4a37-ac3e-7da429cc63db",
   "metadata": {
    "scrolled": true
   },
   "outputs": [
    {
     "data": {
      "application/vnd.plotly.v1+json": {
       "config": {
        "plotlyServerURL": "https://plot.ly"
       },
       "data": [
        {
         "name": "VU",
         "type": "bar",
         "x": [
          "ACX60_05080",
          "ACX60_00950",
          "ACX60_11495",
          "ACX60_07925",
          "ACX60_10365",
          "ACX60_05695",
          "ClsC2"
         ],
         "y": [
          99.12663755458514,
          100,
          80.34934497816593,
          99.56331877729258,
          0.8733624454148471,
          89.08296943231441,
          9.606986899563319
         ]
        },
        {
         "name": "UN",
         "type": "bar",
         "x": [
          "ACX60_05080",
          "ACX60_00950",
          "ACX60_11495",
          "ACX60_07925",
          "ACX60_10365",
          "ACX60_05695",
          "ClsC2"
         ],
         "y": [
          0.43668122270742354,
          0.43668122270742354,
          0.43668122270742354,
          0.43668122270742354,
          99.56331877729258,
          0.43668122270742354,
          90.39301310043668
         ]
        },
        {
         "name": "Other",
         "type": "bar",
         "x": [
          "ACX60_05080",
          "ACX60_00950",
          "ACX60_11495",
          "ACX60_07925",
          "ACX60_10365",
          "ACX60_05695",
          "ClsC2"
         ],
         "y": [
          0,
          0,
          0,
          0,
          0,
          10.480349344978166,
          null
         ]
        }
       ],
       "layout": {
        "barmode": "stack",
        "height": 500,
        "legend": {
         "font": {
          "size": 15
         }
        },
        "plot_bgcolor": "rgb(255,255,255)",
        "template": {
         "data": {
          "bar": [
           {
            "error_x": {
             "color": "#2a3f5f"
            },
            "error_y": {
             "color": "#2a3f5f"
            },
            "marker": {
             "line": {
              "color": "#E5ECF6",
              "width": 0.5
             },
             "pattern": {
              "fillmode": "overlay",
              "size": 10,
              "solidity": 0.2
             }
            },
            "type": "bar"
           }
          ],
          "barpolar": [
           {
            "marker": {
             "line": {
              "color": "#E5ECF6",
              "width": 0.5
             },
             "pattern": {
              "fillmode": "overlay",
              "size": 10,
              "solidity": 0.2
             }
            },
            "type": "barpolar"
           }
          ],
          "carpet": [
           {
            "aaxis": {
             "endlinecolor": "#2a3f5f",
             "gridcolor": "white",
             "linecolor": "white",
             "minorgridcolor": "white",
             "startlinecolor": "#2a3f5f"
            },
            "baxis": {
             "endlinecolor": "#2a3f5f",
             "gridcolor": "white",
             "linecolor": "white",
             "minorgridcolor": "white",
             "startlinecolor": "#2a3f5f"
            },
            "type": "carpet"
           }
          ],
          "choropleth": [
           {
            "colorbar": {
             "outlinewidth": 0,
             "ticks": ""
            },
            "type": "choropleth"
           }
          ],
          "contour": [
           {
            "colorbar": {
             "outlinewidth": 0,
             "ticks": ""
            },
            "colorscale": [
             [
              0,
              "#0d0887"
             ],
             [
              0.1111111111111111,
              "#46039f"
             ],
             [
              0.2222222222222222,
              "#7201a8"
             ],
             [
              0.3333333333333333,
              "#9c179e"
             ],
             [
              0.4444444444444444,
              "#bd3786"
             ],
             [
              0.5555555555555556,
              "#d8576b"
             ],
             [
              0.6666666666666666,
              "#ed7953"
             ],
             [
              0.7777777777777778,
              "#fb9f3a"
             ],
             [
              0.8888888888888888,
              "#fdca26"
             ],
             [
              1,
              "#f0f921"
             ]
            ],
            "type": "contour"
           }
          ],
          "contourcarpet": [
           {
            "colorbar": {
             "outlinewidth": 0,
             "ticks": ""
            },
            "type": "contourcarpet"
           }
          ],
          "heatmap": [
           {
            "colorbar": {
             "outlinewidth": 0,
             "ticks": ""
            },
            "colorscale": [
             [
              0,
              "#0d0887"
             ],
             [
              0.1111111111111111,
              "#46039f"
             ],
             [
              0.2222222222222222,
              "#7201a8"
             ],
             [
              0.3333333333333333,
              "#9c179e"
             ],
             [
              0.4444444444444444,
              "#bd3786"
             ],
             [
              0.5555555555555556,
              "#d8576b"
             ],
             [
              0.6666666666666666,
              "#ed7953"
             ],
             [
              0.7777777777777778,
              "#fb9f3a"
             ],
             [
              0.8888888888888888,
              "#fdca26"
             ],
             [
              1,
              "#f0f921"
             ]
            ],
            "type": "heatmap"
           }
          ],
          "heatmapgl": [
           {
            "colorbar": {
             "outlinewidth": 0,
             "ticks": ""
            },
            "colorscale": [
             [
              0,
              "#0d0887"
             ],
             [
              0.1111111111111111,
              "#46039f"
             ],
             [
              0.2222222222222222,
              "#7201a8"
             ],
             [
              0.3333333333333333,
              "#9c179e"
             ],
             [
              0.4444444444444444,
              "#bd3786"
             ],
             [
              0.5555555555555556,
              "#d8576b"
             ],
             [
              0.6666666666666666,
              "#ed7953"
             ],
             [
              0.7777777777777778,
              "#fb9f3a"
             ],
             [
              0.8888888888888888,
              "#fdca26"
             ],
             [
              1,
              "#f0f921"
             ]
            ],
            "type": "heatmapgl"
           }
          ],
          "histogram": [
           {
            "marker": {
             "pattern": {
              "fillmode": "overlay",
              "size": 10,
              "solidity": 0.2
             }
            },
            "type": "histogram"
           }
          ],
          "histogram2d": [
           {
            "colorbar": {
             "outlinewidth": 0,
             "ticks": ""
            },
            "colorscale": [
             [
              0,
              "#0d0887"
             ],
             [
              0.1111111111111111,
              "#46039f"
             ],
             [
              0.2222222222222222,
              "#7201a8"
             ],
             [
              0.3333333333333333,
              "#9c179e"
             ],
             [
              0.4444444444444444,
              "#bd3786"
             ],
             [
              0.5555555555555556,
              "#d8576b"
             ],
             [
              0.6666666666666666,
              "#ed7953"
             ],
             [
              0.7777777777777778,
              "#fb9f3a"
             ],
             [
              0.8888888888888888,
              "#fdca26"
             ],
             [
              1,
              "#f0f921"
             ]
            ],
            "type": "histogram2d"
           }
          ],
          "histogram2dcontour": [
           {
            "colorbar": {
             "outlinewidth": 0,
             "ticks": ""
            },
            "colorscale": [
             [
              0,
              "#0d0887"
             ],
             [
              0.1111111111111111,
              "#46039f"
             ],
             [
              0.2222222222222222,
              "#7201a8"
             ],
             [
              0.3333333333333333,
              "#9c179e"
             ],
             [
              0.4444444444444444,
              "#bd3786"
             ],
             [
              0.5555555555555556,
              "#d8576b"
             ],
             [
              0.6666666666666666,
              "#ed7953"
             ],
             [
              0.7777777777777778,
              "#fb9f3a"
             ],
             [
              0.8888888888888888,
              "#fdca26"
             ],
             [
              1,
              "#f0f921"
             ]
            ],
            "type": "histogram2dcontour"
           }
          ],
          "mesh3d": [
           {
            "colorbar": {
             "outlinewidth": 0,
             "ticks": ""
            },
            "type": "mesh3d"
           }
          ],
          "parcoords": [
           {
            "line": {
             "colorbar": {
              "outlinewidth": 0,
              "ticks": ""
             }
            },
            "type": "parcoords"
           }
          ],
          "pie": [
           {
            "automargin": true,
            "type": "pie"
           }
          ],
          "scatter": [
           {
            "marker": {
             "colorbar": {
              "outlinewidth": 0,
              "ticks": ""
             }
            },
            "type": "scatter"
           }
          ],
          "scatter3d": [
           {
            "line": {
             "colorbar": {
              "outlinewidth": 0,
              "ticks": ""
             }
            },
            "marker": {
             "colorbar": {
              "outlinewidth": 0,
              "ticks": ""
             }
            },
            "type": "scatter3d"
           }
          ],
          "scattercarpet": [
           {
            "marker": {
             "colorbar": {
              "outlinewidth": 0,
              "ticks": ""
             }
            },
            "type": "scattercarpet"
           }
          ],
          "scattergeo": [
           {
            "marker": {
             "colorbar": {
              "outlinewidth": 0,
              "ticks": ""
             }
            },
            "type": "scattergeo"
           }
          ],
          "scattergl": [
           {
            "marker": {
             "colorbar": {
              "outlinewidth": 0,
              "ticks": ""
             }
            },
            "type": "scattergl"
           }
          ],
          "scattermapbox": [
           {
            "marker": {
             "colorbar": {
              "outlinewidth": 0,
              "ticks": ""
             }
            },
            "type": "scattermapbox"
           }
          ],
          "scatterpolar": [
           {
            "marker": {
             "colorbar": {
              "outlinewidth": 0,
              "ticks": ""
             }
            },
            "type": "scatterpolar"
           }
          ],
          "scatterpolargl": [
           {
            "marker": {
             "colorbar": {
              "outlinewidth": 0,
              "ticks": ""
             }
            },
            "type": "scatterpolargl"
           }
          ],
          "scatterternary": [
           {
            "marker": {
             "colorbar": {
              "outlinewidth": 0,
              "ticks": ""
             }
            },
            "type": "scatterternary"
           }
          ],
          "surface": [
           {
            "colorbar": {
             "outlinewidth": 0,
             "ticks": ""
            },
            "colorscale": [
             [
              0,
              "#0d0887"
             ],
             [
              0.1111111111111111,
              "#46039f"
             ],
             [
              0.2222222222222222,
              "#7201a8"
             ],
             [
              0.3333333333333333,
              "#9c179e"
             ],
             [
              0.4444444444444444,
              "#bd3786"
             ],
             [
              0.5555555555555556,
              "#d8576b"
             ],
             [
              0.6666666666666666,
              "#ed7953"
             ],
             [
              0.7777777777777778,
              "#fb9f3a"
             ],
             [
              0.8888888888888888,
              "#fdca26"
             ],
             [
              1,
              "#f0f921"
             ]
            ],
            "type": "surface"
           }
          ],
          "table": [
           {
            "cells": {
             "fill": {
              "color": "#EBF0F8"
             },
             "line": {
              "color": "white"
             }
            },
            "header": {
             "fill": {
              "color": "#C8D4E3"
             },
             "line": {
              "color": "white"
             }
            },
            "type": "table"
           }
          ]
         },
         "layout": {
          "annotationdefaults": {
           "arrowcolor": "#2a3f5f",
           "arrowhead": 0,
           "arrowwidth": 1
          },
          "autotypenumbers": "strict",
          "coloraxis": {
           "colorbar": {
            "outlinewidth": 0,
            "ticks": ""
           }
          },
          "colorscale": {
           "diverging": [
            [
             0,
             "#8e0152"
            ],
            [
             0.1,
             "#c51b7d"
            ],
            [
             0.2,
             "#de77ae"
            ],
            [
             0.3,
             "#f1b6da"
            ],
            [
             0.4,
             "#fde0ef"
            ],
            [
             0.5,
             "#f7f7f7"
            ],
            [
             0.6,
             "#e6f5d0"
            ],
            [
             0.7,
             "#b8e186"
            ],
            [
             0.8,
             "#7fbc41"
            ],
            [
             0.9,
             "#4d9221"
            ],
            [
             1,
             "#276419"
            ]
           ],
           "sequential": [
            [
             0,
             "#0d0887"
            ],
            [
             0.1111111111111111,
             "#46039f"
            ],
            [
             0.2222222222222222,
             "#7201a8"
            ],
            [
             0.3333333333333333,
             "#9c179e"
            ],
            [
             0.4444444444444444,
             "#bd3786"
            ],
            [
             0.5555555555555556,
             "#d8576b"
            ],
            [
             0.6666666666666666,
             "#ed7953"
            ],
            [
             0.7777777777777778,
             "#fb9f3a"
            ],
            [
             0.8888888888888888,
             "#fdca26"
            ],
            [
             1,
             "#f0f921"
            ]
           ],
           "sequentialminus": [
            [
             0,
             "#0d0887"
            ],
            [
             0.1111111111111111,
             "#46039f"
            ],
            [
             0.2222222222222222,
             "#7201a8"
            ],
            [
             0.3333333333333333,
             "#9c179e"
            ],
            [
             0.4444444444444444,
             "#bd3786"
            ],
            [
             0.5555555555555556,
             "#d8576b"
            ],
            [
             0.6666666666666666,
             "#ed7953"
            ],
            [
             0.7777777777777778,
             "#fb9f3a"
            ],
            [
             0.8888888888888888,
             "#fdca26"
            ],
            [
             1,
             "#f0f921"
            ]
           ]
          },
          "colorway": [
           "#636efa",
           "#EF553B",
           "#00cc96",
           "#ab63fa",
           "#FFA15A",
           "#19d3f3",
           "#FF6692",
           "#B6E880",
           "#FF97FF",
           "#FECB52"
          ],
          "font": {
           "color": "#2a3f5f"
          },
          "geo": {
           "bgcolor": "white",
           "lakecolor": "white",
           "landcolor": "#E5ECF6",
           "showlakes": true,
           "showland": true,
           "subunitcolor": "white"
          },
          "hoverlabel": {
           "align": "left"
          },
          "hovermode": "closest",
          "mapbox": {
           "style": "light"
          },
          "paper_bgcolor": "white",
          "plot_bgcolor": "#E5ECF6",
          "polar": {
           "angularaxis": {
            "gridcolor": "white",
            "linecolor": "white",
            "ticks": ""
           },
           "bgcolor": "#E5ECF6",
           "radialaxis": {
            "gridcolor": "white",
            "linecolor": "white",
            "ticks": ""
           }
          },
          "scene": {
           "xaxis": {
            "backgroundcolor": "#E5ECF6",
            "gridcolor": "white",
            "gridwidth": 2,
            "linecolor": "white",
            "showbackground": true,
            "ticks": "",
            "zerolinecolor": "white"
           },
           "yaxis": {
            "backgroundcolor": "#E5ECF6",
            "gridcolor": "white",
            "gridwidth": 2,
            "linecolor": "white",
            "showbackground": true,
            "ticks": "",
            "zerolinecolor": "white"
           },
           "zaxis": {
            "backgroundcolor": "#E5ECF6",
            "gridcolor": "white",
            "gridwidth": 2,
            "linecolor": "white",
            "showbackground": true,
            "ticks": "",
            "zerolinecolor": "white"
           }
          },
          "shapedefaults": {
           "line": {
            "color": "#2a3f5f"
           }
          },
          "ternary": {
           "aaxis": {
            "gridcolor": "white",
            "linecolor": "white",
            "ticks": ""
           },
           "baxis": {
            "gridcolor": "white",
            "linecolor": "white",
            "ticks": ""
           },
           "bgcolor": "#E5ECF6",
           "caxis": {
            "gridcolor": "white",
            "linecolor": "white",
            "ticks": ""
           }
          },
          "title": {
           "x": 0.05
          },
          "xaxis": {
           "automargin": true,
           "gridcolor": "white",
           "linecolor": "white",
           "ticks": "",
           "title": {
            "standoff": 15
           },
           "zerolinecolor": "white",
           "zerolinewidth": 2
          },
          "yaxis": {
           "automargin": true,
           "gridcolor": "white",
           "linecolor": "white",
           "ticks": "",
           "title": {
            "standoff": 15
           },
           "zerolinecolor": "white",
           "zerolinewidth": 2
          }
         }
        },
        "title": {
         "font": {
          "size": 35
         },
         "text": ""
        },
        "width": 600,
        "xaxis": {
         "autorange": true,
         "linecolor": "rgb(0, 0, 0)",
         "linewidth": 2,
         "range": [
          -0.5,
          6.5
         ],
         "showline": true,
         "tickfont": {
          "size": 15
         },
         "ticks": "outside",
         "tickwidth": 2,
         "title": {
          "font": {
           "size": 25
          },
          "text": ""
         },
         "type": "category"
        },
        "yaxis": {
         "autorange": true,
         "linecolor": "rgb(0, 0, 0)",
         "linewidth": 2,
         "range": [
          0,
          105.72282233969202
         ],
         "showline": true,
         "tickfont": {
          "size": 15
         },
         "ticks": "outside",
         "tickwidth": 2,
         "title": {
          "font": {
           "size": 25
          },
          "text": "Percentage"
         },
         "type": "linear"
        }
       }
      },
      "image/png": "[encoded data removed]",
      "text/html": [
       "<div>                            <div id=\"04befcc5-3cca-4784-bd2a-48510b77c481\" class=\"plotly-graph-div\" style=\"height:500px; width:600px;\"></div>            <script type=\"text/javascript\">                require([\"plotly\"], function(Plotly) {                    window.PLOTLYENV=window.PLOTLYENV || {};                                    if (document.getElementById(\"04befcc5-3cca-4784-bd2a-48510b77c481\")) {                    Plotly.newPlot(                        \"04befcc5-3cca-4784-bd2a-48510b77c481\",                        [{\"name\":\"VU\",\"x\":[\"ACX60_05080\",\"ACX60_00950\",\"ACX60_11495\",\"ACX60_07925\",\"ACX60_10365\",\"ACX60_05695\",\"ClsC2\"],\"y\":[99.12663755458514,100.0,80.34934497816593,99.56331877729258,0.8733624454148471,89.08296943231441,9.606986899563319],\"type\":\"bar\"},{\"name\":\"UN\",\"x\":[\"ACX60_05080\",\"ACX60_00950\",\"ACX60_11495\",\"ACX60_07925\",\"ACX60_10365\",\"ACX60_05695\",\"ClsC2\"],\"y\":[0.43668122270742354,0.43668122270742354,0.43668122270742354,0.43668122270742354,99.56331877729258,0.43668122270742354,90.39301310043668],\"type\":\"bar\"},{\"name\":\"Other\",\"x\":[\"ACX60_05080\",\"ACX60_00950\",\"ACX60_11495\",\"ACX60_07925\",\"ACX60_10365\",\"ACX60_05695\",\"ClsC2\"],\"y\":[0.0,0.0,0.0,0.0,0.0,10.480349344978166,null],\"type\":\"bar\"}],                        {\"template\":{\"data\":{\"bar\":[{\"error_x\":{\"color\":\"#2a3f5f\"},\"error_y\":{\"color\":\"#2a3f5f\"},\"marker\":{\"line\":{\"color\":\"#E5ECF6\",\"width\":0.5},\"pattern\":{\"fillmode\":\"overlay\",\"size\":10,\"solidity\":0.2}},\"type\":\"bar\"}],\"barpolar\":[{\"marker\":{\"line\":{\"color\":\"#E5ECF6\",\"width\":0.5},\"pattern\":{\"fillmode\":\"overlay\",\"size\":10,\"solidity\":0.2}},\"type\":\"barpolar\"}],\"carpet\":[{\"aaxis\":{\"endlinecolor\":\"#2a3f5f\",\"gridcolor\":\"white\",\"linecolor\":\"white\",\"minorgridcolor\":\"white\",\"startlinecolor\":\"#2a3f5f\"},\"baxis\":{\"endlinecolor\":\"#2a3f5f\",\"gridcolor\":\"white\",\"linecolor\":\"white\",\"minorgridcolor\":\"white\",\"startlinecolor\":\"#2a3f5f\"},\"type\":\"carpet\"}],\"choropleth\":[{\"colorbar\":{\"outlinewidth\":0,\"ticks\":\"\"},\"type\":\"choropleth\"}],\"contour\":[{\"colorbar\":{\"outlinewidth\":0,\"ticks\":\"\"},\"colorscale\":[[0.0,\"#0d0887\"],[0.1111111111111111,\"#46039f\"],[0.2222222222222222,\"#7201a8\"],[0.3333333333333333,\"#9c179e\"],[0.4444444444444444,\"#bd3786\"],[0.5555555555555556,\"#d8576b\"],[0.6666666666666666,\"#ed7953\"],[0.7777777777777778,\"#fb9f3a\"],[0.8888888888888888,\"#fdca26\"],[1.0,\"#f0f921\"]],\"type\":\"contour\"}],\"contourcarpet\":[{\"colorbar\":{\"outlinewidth\":0,\"ticks\":\"\"},\"type\":\"contourcarpet\"}],\"heatmap\":[{\"colorbar\":{\"outlinewidth\":0,\"ticks\":\"\"},\"colorscale\":[[0.0,\"#0d0887\"],[0.1111111111111111,\"#46039f\"],[0.2222222222222222,\"#7201a8\"],[0.3333333333333333,\"#9c179e\"],[0.4444444444444444,\"#bd3786\"],[0.5555555555555556,\"#d8576b\"],[0.6666666666666666,\"#ed7953\"],[0.7777777777777778,\"#fb9f3a\"],[0.8888888888888888,\"#fdca26\"],[1.0,\"#f0f921\"]],\"type\":\"heatmap\"}],\"heatmapgl\":[{\"colorbar\":{\"outlinewidth\":0,\"ticks\":\"\"},\"colorscale\":[[0.0,\"#0d0887\"],[0.1111111111111111,\"#46039f\"],[0.2222222222222222,\"#7201a8\"],[0.3333333333333333,\"#9c179e\"],[0.4444444444444444,\"#bd3786\"],[0.5555555555555556,\"#d8576b\"],[0.6666666666666666,\"#ed7953\"],[0.7777777777777778,\"#fb9f3a\"],[0.8888888888888888,\"#fdca26\"],[1.0,\"#f0f921\"]],\"type\":\"heatmapgl\"}],\"histogram\":[{\"marker\":{\"pattern\":{\"fillmode\":\"overlay\",\"size\":10,\"solidity\":0.2}},\"type\":\"histogram\"}],\"histogram2d\":[{\"colorbar\":{\"outlinewidth\":0,\"ticks\":\"\"},\"colorscale\":[[0.0,\"#0d0887\"],[0.1111111111111111,\"#46039f\"],[0.2222222222222222,\"#7201a8\"],[0.3333333333333333,\"#9c179e\"],[0.4444444444444444,\"#bd3786\"],[0.5555555555555556,\"#d8576b\"],[0.6666666666666666,\"#ed7953\"],[0.7777777777777778,\"#fb9f3a\"],[0.8888888888888888,\"#fdca26\"],[1.0,\"#f0f921\"]],\"type\":\"histogram2d\"}],\"histogram2dcontour\":[{\"colorbar\":{\"outlinewidth\":0,\"ticks\":\"\"},\"colorscale\":[[0.0,\"#0d0887\"],[0.1111111111111111,\"#46039f\"],[0.2222222222222222,\"#7201a8\"],[0.3333333333333333,\"#9c179e\"],[0.4444444444444444,\"#bd3786\"],[0.5555555555555556,\"#d8576b\"],[0.6666666666666666,\"#ed7953\"],[0.7777777777777778,\"#fb9f3a\"],[0.8888888888888888,\"#fdca26\"],[1.0,\"#f0f921\"]],\"type\":\"histogram2dcontour\"}],\"mesh3d\":[{\"colorbar\":{\"outlinewidth\":0,\"ticks\":\"\"},\"type\":\"mesh3d\"}],\"parcoords\":[{\"line\":{\"colorbar\":{\"outlinewidth\":0,\"ticks\":\"\"}},\"type\":\"parcoords\"}],\"pie\":[{\"automargin\":true,\"type\":\"pie\"}],\"scatter\":[{\"marker\":{\"colorbar\":{\"outlinewidth\":0,\"ticks\":\"\"}},\"type\":\"scatter\"}],\"scatter3d\":[{\"line\":{\"colorbar\":{\"outlinewidth\":0,\"ticks\":\"\"}},\"marker\":{\"colorbar\":{\"outlinewidth\":0,\"ticks\":\"\"}},\"type\":\"scatter3d\"}],\"scattercarpet\":[{\"marker\":{\"colorbar\":{\"outlinewidth\":0,\"ticks\":\"\"}},\"type\":\"scattercarpet\"}],\"scattergeo\":[{\"marker\":{\"colorbar\":{\"outlinewidth\":0,\"ticks\":\"\"}},\"type\":\"scattergeo\"}],\"scattergl\":[{\"marker\":{\"colorbar\":{\"outlinewidth\":0,\"ticks\":\"\"}},\"type\":\"scattergl\"}],\"scattermapbox\":[{\"marker\":{\"colorbar\":{\"outlinewidth\":0,\"ticks\":\"\"}},\"type\":\"scattermapbox\"}],\"scatterpolar\":[{\"marker\":{\"colorbar\":{\"outlinewidth\":0,\"ticks\":\"\"}},\"type\":\"scatterpolar\"}],\"scatterpolargl\":[{\"marker\":{\"colorbar\":{\"outlinewidth\":0,\"ticks\":\"\"}},\"type\":\"scatterpolargl\"}],\"scatterternary\":[{\"marker\":{\"colorbar\":{\"outlinewidth\":0,\"ticks\":\"\"}},\"type\":\"scatterternary\"}],\"surface\":[{\"colorbar\":{\"outlinewidth\":0,\"ticks\":\"\"},\"colorscale\":[[0.0,\"#0d0887\"],[0.1111111111111111,\"#46039f\"],[0.2222222222222222,\"#7201a8\"],[0.3333333333333333,\"#9c179e\"],[0.4444444444444444,\"#bd3786\"],[0.5555555555555556,\"#d8576b\"],[0.6666666666666666,\"#ed7953\"],[0.7777777777777778,\"#fb9f3a\"],[0.8888888888888888,\"#fdca26\"],[1.0,\"#f0f921\"]],\"type\":\"surface\"}],\"table\":[{\"cells\":{\"fill\":{\"color\":\"#EBF0F8\"},\"line\":{\"color\":\"white\"}},\"header\":{\"fill\":{\"color\":\"#C8D4E3\"},\"line\":{\"color\":\"white\"}},\"type\":\"table\"}]},\"layout\":{\"annotationdefaults\":{\"arrowcolor\":\"#2a3f5f\",\"arrowhead\":0,\"arrowwidth\":1},\"autotypenumbers\":\"strict\",\"coloraxis\":{\"colorbar\":{\"outlinewidth\":0,\"ticks\":\"\"}},\"colorscale\":{\"diverging\":[[0,\"#8e0152\"],[0.1,\"#c51b7d\"],[0.2,\"#de77ae\"],[0.3,\"#f1b6da\"],[0.4,\"#fde0ef\"],[0.5,\"#f7f7f7\"],[0.6,\"#e6f5d0\"],[0.7,\"#b8e186\"],[0.8,\"#7fbc41\"],[0.9,\"#4d9221\"],[1,\"#276419\"]],\"sequential\":[[0.0,\"#0d0887\"],[0.1111111111111111,\"#46039f\"],[0.2222222222222222,\"#7201a8\"],[0.3333333333333333,\"#9c179e\"],[0.4444444444444444,\"#bd3786\"],[0.5555555555555556,\"#d8576b\"],[0.6666666666666666,\"#ed7953\"],[0.7777777777777778,\"#fb9f3a\"],[0.8888888888888888,\"#fdca26\"],[1.0,\"#f0f921\"]],\"sequentialminus\":[[0.0,\"#0d0887\"],[0.1111111111111111,\"#46039f\"],[0.2222222222222222,\"#7201a8\"],[0.3333333333333333,\"#9c179e\"],[0.4444444444444444,\"#bd3786\"],[0.5555555555555556,\"#d8576b\"],[0.6666666666666666,\"#ed7953\"],[0.7777777777777778,\"#fb9f3a\"],[0.8888888888888888,\"#fdca26\"],[1.0,\"#f0f921\"]]},\"colorway\":[\"#636efa\",\"#EF553B\",\"#00cc96\",\"#ab63fa\",\"#FFA15A\",\"#19d3f3\",\"#FF6692\",\"#B6E880\",\"#FF97FF\",\"#FECB52\"],\"font\":{\"color\":\"#2a3f5f\"},\"geo\":{\"bgcolor\":\"white\",\"lakecolor\":\"white\",\"landcolor\":\"#E5ECF6\",\"showlakes\":true,\"showland\":true,\"subunitcolor\":\"white\"},\"hoverlabel\":{\"align\":\"left\"},\"hovermode\":\"closest\",\"mapbox\":{\"style\":\"light\"},\"paper_bgcolor\":\"white\",\"plot_bgcolor\":\"#E5ECF6\",\"polar\":{\"angularaxis\":{\"gridcolor\":\"white\",\"linecolor\":\"white\",\"ticks\":\"\"},\"bgcolor\":\"#E5ECF6\",\"radialaxis\":{\"gridcolor\":\"white\",\"linecolor\":\"white\",\"ticks\":\"\"}},\"scene\":{\"xaxis\":{\"backgroundcolor\":\"#E5ECF6\",\"gridcolor\":\"white\",\"gridwidth\":2,\"linecolor\":\"white\",\"showbackground\":true,\"ticks\":\"\",\"zerolinecolor\":\"white\"},\"yaxis\":{\"backgroundcolor\":\"#E5ECF6\",\"gridcolor\":\"white\",\"gridwidth\":2,\"linecolor\":\"white\",\"showbackground\":true,\"ticks\":\"\",\"zerolinecolor\":\"white\"},\"zaxis\":{\"backgroundcolor\":\"#E5ECF6\",\"gridcolor\":\"white\",\"gridwidth\":2,\"linecolor\":\"white\",\"showbackground\":true,\"ticks\":\"\",\"zerolinecolor\":\"white\"}},\"shapedefaults\":{\"line\":{\"color\":\"#2a3f5f\"}},\"ternary\":{\"aaxis\":{\"gridcolor\":\"white\",\"linecolor\":\"white\",\"ticks\":\"\"},\"baxis\":{\"gridcolor\":\"white\",\"linecolor\":\"white\",\"ticks\":\"\"},\"bgcolor\":\"#E5ECF6\",\"caxis\":{\"gridcolor\":\"white\",\"linecolor\":\"white\",\"ticks\":\"\"}},\"title\":{\"x\":0.05},\"xaxis\":{\"automargin\":true,\"gridcolor\":\"white\",\"linecolor\":\"white\",\"ticks\":\"\",\"title\":{\"standoff\":15},\"zerolinecolor\":\"white\",\"zerolinewidth\":2},\"yaxis\":{\"automargin\":true,\"gridcolor\":\"white\",\"linecolor\":\"white\",\"ticks\":\"\",\"title\":{\"standoff\":15},\"zerolinecolor\":\"white\",\"zerolinewidth\":2}}},\"title\":{\"text\":\"\",\"font\":{\"size\":35}},\"xaxis\":{\"title\":{\"text\":\"\",\"font\":{\"size\":25}},\"tickfont\":{\"size\":15},\"linecolor\":\"rgb(0,0,0)\",\"linewidth\":2,\"showline\":true,\"ticks\":\"outside\",\"tickwidth\":2},\"yaxis\":{\"title\":{\"text\":\"Percentage\",\"font\":{\"size\":25}},\"tickfont\":{\"size\":15},\"linecolor\":\"rgb(0,0,0)\",\"linewidth\":2,\"showline\":true,\"ticks\":\"outside\",\"tickwidth\":2},\"barmode\":\"stack\",\"legend\":{\"font\":{\"size\":15}},\"height\":500,\"plot_bgcolor\":\"rgb(255,255,255)\",\"width\":600},                        {\"responsive\": true}                    ).then(function(){\n",
       "                            \n",
       "var gd = document.getElementById('04befcc5-3cca-4784-bd2a-48510b77c481');\n",
       "var x = new MutationObserver(function (mutations, observer) {{\n",
       "        var display = window.getComputedStyle(gd).display;\n",
       "        if (!display || display === 'none') {{\n",
       "            console.log([gd, 'removed!']);\n",
       "            Plotly.purge(gd);\n",
       "            observer.disconnect();\n",
       "        }}\n",
       "}});\n",
       "\n",
       "// Listen for the removal of the full notebook cells\n",
       "var notebookContainer = gd.closest('#notebook-container');\n",
       "if (notebookContainer) {{\n",
       "    x.observe(notebookContainer, {childList: true});\n",
       "}}\n",
       "\n",
       "// Listen for the clearing of the current output cell\n",
       "var outputEl = gd.closest('.output');\n",
       "if (outputEl) {{\n",
       "    x.observe(outputEl, {childList: true});\n",
       "}}\n",
       "\n",
       "                        })                };                });            </script>        </div>"
      ]
     },
     "metadata": {},
     "output_type": "display_data"
    }
   ],
   "source": [
    "from jw_utils import plotly_preferences as pprefs\n",
    "\n",
    "layout = pprefs.bargraph_layout(title='',\n",
    "    x_title='',\n",
    "    y_title='Percentage',\n",
    "    height=500,\n",
    "    width=600,\n",
    "    plot_bgcolor='rgb(255,255,255)',\n",
    "    legend_fontsize=15,\n",
    "    yaxis_fontsize=25,\n",
    "    xaxis_fontsize=25,\n",
    ")\n",
    "fig.update_layout(layout)"
   ]
  },
  {
   "cell_type": "code",
   "execution_count": 38,
   "id": "faf5c226-a3ff-4db1-8ffc-0ba23e752f06",
   "metadata": {},
   "outputs": [],
   "source": [
    "import plotly.io as pio\n",
    "pio.write_image(fig, \"./UN_vs_VU_variants/variant_figure/UNvsVU_percentages.svg\")"
   ]
  },
  {
   "cell_type": "code",
   "execution_count": 41,
   "id": "6d200f27-3ef5-433b-8231-ebd77b7804c3",
   "metadata": {},
   "outputs": [],
   "source": []
  },
  {
   "cell_type": "code",
   "execution_count": 46,
   "id": "1a9efb21-c2a4-40cc-bb56-bda75b9601a4",
   "metadata": {},
   "outputs": [
    {
     "data": {
      "text/html": [
       "<div>\n",
       "<style scoped>\n",
       "    .dataframe tbody tr th:only-of-type {\n",
       "        vertical-align: middle;\n",
       "    }\n",
       "\n",
       "    .dataframe tbody tr th {\n",
       "        vertical-align: top;\n",
       "    }\n",
       "\n",
       "    .dataframe thead th {\n",
       "        text-align: right;\n",
       "    }\n",
       "</style>\n",
       "<table border=\"1\" class=\"dataframe\">\n",
       "  <thead>\n",
       "    <tr style=\"text-align: right;\">\n",
       "      <th></th>\n",
       "      <th>VU</th>\n",
       "      <th>UN</th>\n",
       "      <th>Other</th>\n",
       "    </tr>\n",
       "  </thead>\n",
       "  <tbody>\n",
       "    <tr>\n",
       "      <th>ACX60_05080</th>\n",
       "      <td>227</td>\n",
       "      <td>1</td>\n",
       "      <td>0</td>\n",
       "    </tr>\n",
       "    <tr>\n",
       "      <th>ACX60_00950</th>\n",
       "      <td>229</td>\n",
       "      <td>1</td>\n",
       "      <td>0</td>\n",
       "    </tr>\n",
       "    <tr>\n",
       "      <th>ACX60_11495</th>\n",
       "      <td>184</td>\n",
       "      <td>1</td>\n",
       "      <td>0</td>\n",
       "    </tr>\n",
       "    <tr>\n",
       "      <th>ACX60_07925</th>\n",
       "      <td>228</td>\n",
       "      <td>1</td>\n",
       "      <td>0</td>\n",
       "    </tr>\n",
       "    <tr>\n",
       "      <th>ACX60_10365</th>\n",
       "      <td>2</td>\n",
       "      <td>228</td>\n",
       "      <td>0</td>\n",
       "    </tr>\n",
       "    <tr>\n",
       "      <th>ACX60_05695</th>\n",
       "      <td>204</td>\n",
       "      <td>1</td>\n",
       "      <td>24</td>\n",
       "    </tr>\n",
       "    <tr>\n",
       "      <th>ClsC2</th>\n",
       "      <td>22</td>\n",
       "      <td>207</td>\n",
       "      <td>0</td>\n",
       "    </tr>\n",
       "  </tbody>\n",
       "</table>\n",
       "</div>"
      ],
      "text/plain": [
       "              VU   UN  Other\n",
       "ACX60_05080  227    1      0\n",
       "ACX60_00950  229    1      0\n",
       "ACX60_11495  184    1      0\n",
       "ACX60_07925  228    1      0\n",
       "ACX60_10365    2  228      0\n",
       "ACX60_05695  204    1     24\n",
       "ClsC2         22  207      0"
      ]
     },
     "execution_count": 46,
     "metadata": {},
     "output_type": "execute_result"
    }
   ],
   "source": [
    "df = df.fillna(0)\n",
    "df = df.astype(int)\n",
    "df.to_csv('./UN_vs_VU_variants/summary_data/summary_data.csv')\n",
    "df"
   ]
  },
  {
   "cell_type": "code",
   "execution_count": null,
   "id": "40f6e5f5-ba89-4771-9e5f-8b7dd7541ad5",
   "metadata": {},
   "outputs": [],
   "source": []
  },
  {
   "cell_type": "code",
   "execution_count": null,
   "id": "4a42e8d3-b35c-46a5-8f92-6656ed09a175",
   "metadata": {},
   "outputs": [],
   "source": []
  }
 ],
 "metadata": {
  "kernelspec": {
   "display_name": "Python 3 (ipykernel)",
   "language": "python",
   "name": "python3"
  },
  "language_info": {
   "codemirror_mode": {
    "name": "ipython",
    "version": 3
   },
   "file_extension": ".py",
   "mimetype": "text/x-python",
   "name": "python",
   "nbconvert_exporter": "python",
   "pygments_lexer": "ipython3",
   "version": "3.11.4"
  }
 },
 "nbformat": 4,
 "nbformat_minor": 5
}
