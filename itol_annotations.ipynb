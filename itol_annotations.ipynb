{
 "cells": [
  {
   "cell_type": "code",
   "execution_count": 1,
   "id": "e5d96024-64fc-435e-822e-c028e52f255b",
   "metadata": {
    "tags": []
   },
   "outputs": [
    {
     "data": {
      "text/plain": [
       "'/Users/jonwinkelman/python-modules/jw_utils/plotly_preferences.py'"
      ]
     },
     "execution_count": 1,
     "metadata": {},
     "output_type": "execute_result"
    }
   ],
   "source": [
    "import sys\n",
    "import inspect\n",
    "from jw_utils import jw_draw_tree as jdt\n",
    "from ete3 import ncbi_taxonomy\n",
    "from ete3 import Tree\n",
    "ncbi_tax = ncbi_taxonomy.NCBITaxa()\n",
    "import json\n",
    "from jw_utils import ncbi_datasets_fxs as nfx\n",
    "from orthofinder_utils import dash_ortho_parser as dop\n",
    "from Bio import Phylo\n",
    "from plotly import graph_objects as go\n",
    "from jw_utils import jw_ncbi_taxonomy as jnt\n",
    "import os\n",
    "from jw_utils import plotly_preferences as pprefs\n",
    "pprefs.__file__"
   ]
  },
  {
   "cell_type": "code",
   "execution_count": 2,
   "id": "c7ae9118-1555-4baa-80a7-16ed90dd93df",
   "metadata": {
    "tags": []
   },
   "outputs": [],
   "source": [
    "rgb_to_hex = {'rgba(132,137,145,1)':'#848991',\n",
    " 'rgb(0,208,132)':'#00d084',\n",
    " 'rgb(0,122,255)':'#007aff',\n",
    " 'rgb(171,184,195)':'#abb8c3',\n",
    " 'rgb(255,105,0)':'#ff6900',\n",
    " 'rgb(252,185,0)':'#fcb900',\n",
    " 'rgb(123,220,181)':'#7bdcb5',\n",
    " 'rgb(142,209,252)':'#8ed1fc',\n",
    " 'rgb(6,147,227)':'#0693e3',\n",
    " 'rgb(155,81,224)':'#9b51e0',\n",
    " 'rgb(207,46,46)':'#cf2e2e',\n",
    " 'rgb(247,141,167)':'#f78da7'}\n",
    "\n",
    "hex_colors = list(rgb_to_hex.values())"
   ]
  },
  {
   "cell_type": "code",
   "execution_count": null,
   "id": "0eeee150-a3cc-40e2-b8ef-730359de48e9",
   "metadata": {
    "tags": []
   },
   "outputs": [],
   "source": []
  },
  {
   "cell_type": "code",
   "execution_count": 3,
   "id": "9cf722f4-fd09-4fcc-9999-539d94c7e249",
   "metadata": {
    "tags": []
   },
   "outputs": [],
   "source": []
  },
  {
   "cell_type": "code",
   "execution_count": null,
   "id": "3d354d1f-910f-4604-b257-c08f90352fc5",
   "metadata": {
    "tags": []
   },
   "outputs": [],
   "source": []
  },
  {
   "cell_type": "code",
   "execution_count": 73,
   "id": "34ec75ef-e2c7-4630-9225-3ce0c3e5bae6",
   "metadata": {
    "tags": []
   },
   "outputs": [],
   "source": [
    "HOGs = {\n",
    "    'crc':'N0.HOG0003265', 'cbrA':'N0.HOG0003702', 'pelA':'N0.HOG0007706','pelB':'N0.HOG0007705','pelC':'N0.HOG0007650','cupB1':'N0.HOG0005381',\n",
    "    'cupB2':'N0.HOG0000906','cupB3':'N0.HOG0000906','cupC1':'N0.HOG0005710','cupC2':'N0.HOG0000907','cupC3':'N0.HOG0001149',\n",
    "    }\n",
    "HOGs_truncated = {\n",
    "    'cbrA':'N0.HOG0003702', 'crc':'N0.HOG0003265', 'pelA':'N0.HOG0007706','cupB1':'N0.HOG0005381','cupC2':'N0.HOG0000907',\n",
    "     }\n",
    "        \n"
   ]
  },
  {
   "cell_type": "code",
   "execution_count": 4,
   "id": "a1b0f142-d9d6-445d-99f2-92695f68af1c",
   "metadata": {
    "tags": []
   },
   "outputs": [
    {
     "ename": "NameError",
     "evalue": "name 'make_itol_count_dict' is not defined",
     "output_type": "error",
     "traceback": [
      "\u001b[0;31m---------------------------------------------------------------------------\u001b[0m",
      "\u001b[0;31mNameError\u001b[0m                                 Traceback (most recent call last)",
      "Cell \u001b[0;32mIn[4], line 1\u001b[0m\n\u001b[0;32m----> 1\u001b[0m name_list, count_dict \u001b[38;5;241m=\u001b[39m  \u001b[43mmake_itol_count_dict\u001b[49m(tree, HOGs_to_name_d, dop_obj)\n",
      "\u001b[0;31mNameError\u001b[0m: name 'make_itol_count_dict' is not defined"
     ]
    }
   ],
   "source": [
    "\n",
    "name_list, count_dict =  make_itol_count_dict(tree, HOGs_to_name_d, dop_obj)"
   ]
  },
  {
   "cell_type": "code",
   "execution_count": 120,
   "id": "26626de5-5235-41dc-8041-0c5a273f9d65",
   "metadata": {
    "tags": []
   },
   "outputs": [],
   "source": [
    "itol_outfile_path = './itol_tree/multibar_dataset_trunc.txt'\n",
    "binary_count_dict = make_count_dict_binary(count_dict)"
   ]
  },
  {
   "cell_type": "code",
   "execution_count": 124,
   "id": "b14a00b0-cab1-4d8f-b3d4-6791c554e314",
   "metadata": {
    "tags": []
   },
   "outputs": [],
   "source": [
    "make_multi_itol_bargraph_dataset(itol_outfile_path, count_dict=binary_count_dict, name_list=name_list)  "
   ]
  },
  {
   "cell_type": "code",
   "execution_count": 170,
   "id": "69f200bc-14ae-4ea0-aef0-a0c4d0fcd6d7",
   "metadata": {
    "tags": []
   },
   "outputs": [],
   "source": [
    "def relabel_itol_treeleafs(tree, relabel_dict, outfile_path):\n",
    "    \"\"\"\"\"\"\n",
    "    import warnings\n",
    "    tree_leafnames = [cl.name for cl in tree.get_terminals()]\n",
    "    if len(tree_leafnames) != len(relabel_dict.keys()):\n",
    "        warnings.warn('The number of tree leafs and the number of dict key names to be replaced are not equal')\n",
    "    with open(outfile_path, 'w') as f:\n",
    "        f.write('LABELS\\n')\n",
    "        f.write('SEPARATOR COMMA\\n')\n",
    "        f.write('DATA\\n')\n",
    "        for old_name, new_name in relabel_dict.items():\n",
    "            f.write(f'{old_name},{new_name}\\n')\n",
    "    \n",
    "\n"
   ]
  },
  {
   "cell_type": "code",
   "execution_count": 180,
   "id": "e2d936fe-d7a3-4b0f-9b18-e2c5f47b1d33",
   "metadata": {
    "tags": []
   },
   "outputs": [
    {
     "name": "stdout",
     "output_type": "stream",
     "text": [
      "234\n"
     ]
    }
   ],
   "source": [
    "relabel_dict = {}\n",
    "for acc, name in dop_obj.accession_to_name.items():\n",
    "    name = name.replace('[','').replace(']','')\n",
    "    name_list =  name.split(' ')\n",
    "    genus = name_list[0][:50]+'.'\n",
    "    species = name_list[1][:7]+'.'\n",
    "    strain = ' '.join(name_list[2:])[:10]\n",
    "    strain = name_list[-1][:10]\n",
    "    name = f'{genus} {species} {strain}' \n",
    "    relabel_dict[acc]=name\n",
    "print(len(relabel_dict))\n",
    "    \n",
    "outfile_path = './itol_tree/rename_dataset.txt'\n",
    "relabel_itol_treeleafs(tree, relabel_dict, outfile_path)"
   ]
  },
  {
   "cell_type": "code",
   "execution_count": 192,
   "id": "8b484bba-11a3-4a30-9efd-7698af09a434",
   "metadata": {
    "tags": []
   },
   "outputs": [],
   "source": [
    "import shutil\n",
    "dest = './Proteomes'\n",
    "parent_fp = './data/ncbi_dataset/data/'\n",
    "for folder in [f for f in os.listdir(parent_fp) if f.startswith('GC')]:\n",
    "    proteome_fp = os.path.join(parent_fp,folder, 'sequence_report.jsonl')\n",
    "    if os.path.exists(proteome_fp):\n",
    "        n_dest_fp = os.path.join(dest, folder)\n",
    "        shutil.move(proteome_fp, n_dest_fp)"
   ]
  },
  {
   "cell_type": "code",
   "execution_count": null,
   "id": "a8da6a9a-6723-4dd2-a86d-5f5a60555a75",
   "metadata": {},
   "outputs": [],
   "source": []
  },
  {
   "cell_type": "code",
   "execution_count": 49,
   "id": "3ffb155b-b5dc-4225-bc8f-e0e3c539f39f",
   "metadata": {
    "tags": []
   },
   "outputs": [],
   "source": [
    "def make_simple_itol_bargraph_dataset(template_path, file_path, data_dict):\n",
    "    \"\"\"\n",
    "    Add data to simple bargraph template for itol dataset adn write to file.\n",
    "\n",
    "    Parameters\n",
    "    ----------\n",
    "    template_path : str\n",
    "        path to template file from itol.\n",
    "    file_path : str\n",
    "        path for new file that is to be created\n",
    "    data_dict :dict\n",
    "        {terminal node name: count}\n",
    "\n",
    "    \"\"\"\n",
    "\n",
    "\n",
    "    template_lines = []\n",
    "    with open(template_path, 'r') as f:\n",
    "        for line in f:\n",
    "            if line[-1] != '\\n':\n",
    "                line = line+'\\n'\n",
    "            template_lines.append(line)\n",
    "            \n",
    "    with open(file_path, 'w') as f:\n",
    "        for line in template_lines:\n",
    "            f.write(line)\n",
    "        for name, count in data_dict.items():\n",
    "            f.write(f'{name},{count}\\n')\n",
    "            \n",
    "crc_data = list(copynumber_bargraph_data_dict([HOGs['crc']], dop_obj, id_type='accession').values())[0]\n",
    "template_path = './itol_tree/dataset_multibar_template.txt'\n",
    "file_path = './itol_tree/crc_simplebar_dataset.txt'\n",
    "make_simple_itol_bargraph_dataset(template_path, file_path, crc_data)"
   ]
  }
 ],
 "metadata": {
  "kernelspec": {
   "display_name": "Python 3 (ipykernel)",
   "language": "python",
   "name": "python3"
  },
  "language_info": {
   "codemirror_mode": {
    "name": "ipython",
    "version": 3
   },
   "file_extension": ".py",
   "mimetype": "text/x-python",
   "name": "python",
   "nbconvert_exporter": "python",
   "pygments_lexer": "ipython3",
   "version": "3.10.8"
  }
 },
 "nbformat": 4,
 "nbformat_minor": 5
}
