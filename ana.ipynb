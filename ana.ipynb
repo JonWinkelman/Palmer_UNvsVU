{
 "cells": [
  {
   "cell_type": "code",
   "execution_count": 1,
   "id": "ff30ab8c-8095-4578-9096-d4708c7c5218",
   "metadata": {
    "tags": []
   },
   "outputs": [],
   "source": [
    "from orthofinder_utils import dash_ortho_parser as dop\n",
    "from orthofinder_utils import itol_annotations as itol_annot\n",
    "from jw_utils import parse_gff as pgf\n",
    "from jw_utils import parse_fasta as pfa\n",
    "import os\n",
    "import pandas as pd\n",
    "import json\n",
    "from Bio import Phylo\n",
    "import shutil\n",
    "import plotly.graph_objects as go\n",
    "from jw_utils import plotly_preferences as pprefs"
   ]
  },
  {
   "cell_type": "code",
   "execution_count": 2,
   "id": "70c286aa-73bd-4669-b1be-ea9f0bf5e67f",
   "metadata": {
    "tags": []
   },
   "outputs": [],
   "source": [
    "rgb_to_hex = {'rgba(132,137,145,1)':'#848991',\n",
    " 'rgb(0,208,132)':'#00d084',\n",
    " 'rgb(0,122,255)':'#007aff',\n",
    " 'rgb(171,184,195)':'#abb8c3',\n",
    " 'rgb(255,105,0)':'#ff6900',\n",
    " 'rgb(252,185,0)':'#fcb900',\n",
    " 'rgb(123,220,181)':'#7bdcb5',\n",
    " 'rgb(142,209,252)':'#8ed1fc',\n",
    " 'rgb(6,147,227)':'#0693e3',\n",
    " 'rgb(155,81,224)':'#9b51e0',\n",
    " 'rgb(207,46,46)':'#cf2e2e',\n",
    " 'rgb(247,141,167)':'#f78da7'}\n",
    "\n",
    "hex_colors = list(rgb_to_hex.values())"
   ]
  },
  {
   "cell_type": "code",
   "execution_count": 3,
   "id": "81fe315f-ba77-448d-8c72-80aebd42a9d8",
   "metadata": {
    "tags": []
   },
   "outputs": [
    {
     "data": {
      "text/plain": [
       "'Acinetobacter baumannii K09-14'"
      ]
     },
     "execution_count": 3,
     "metadata": {},
     "output_type": "execute_result"
    }
   ],
   "source": [
    "dop_obj = dop.DashOrthoParser('./data',tax_level='N3')\n",
    "dop_obj.accession_to_name['GCF_008632635.1']"
   ]
  },
  {
   "cell_type": "code",
   "execution_count": 4,
   "id": "6bff8f7a-e22e-4769-84be-bc1071cd08dc",
   "metadata": {
    "tags": []
   },
   "outputs": [],
   "source": [
    "genes = []\n",
    "base = 'KZA74_0'\n",
    "p2g_d = pgf.make_gene2prot_dict('./data/ncbi_dataset/data/GCA_019356215.1/genomic.gff')\n",
    "cluster_proteins = []\n",
    "for i in range(9240,9410, 5):\n",
    "    gene = base+str(i)\n",
    "    genes.append(gene)\n",
    "    cluster_proteins.append(p2g_d.get('gene-'+gene))\n",
    "prot_to_HOG_d_all = dop_obj.gene_HOG_dict('GCA_019356215.1')\n",
    "gene_to_HOG_d ={prot:prot_to_HOG_d_all.get(prot.strip('cds-')) for prot in cluster_proteins if prot_to_HOG_d_all.get(prot.strip('cds-'))}\n",
    "HOGs_to_gene_d = {v:k for k,v in gene_to_HOG_d.items()}"
   ]
  },
  {
   "cell_type": "code",
   "execution_count": 5,
   "id": "a4d53803-363b-41da-9d9d-645f425b636e",
   "metadata": {
    "tags": []
   },
   "outputs": [],
   "source": [
    "#Accessory gene cluster 44 kb"
   ]
  },
  {
   "cell_type": "code",
   "execution_count": 6,
   "id": "80daf0de-ac58-4201-8e58-b5ad9d88e050",
   "metadata": {
    "tags": []
   },
   "outputs": [],
   "source": [
    "tree = Phylo.read('./data/Species_Tree/SpeciesTree_rooted_node_labels.txt', format='newick')\n",
    "HOG_list, binary_count_dict = itol_annot.make_binary_count_dict(tree, gene_to_HOG_d.values(), dop_obj)"
   ]
  },
  {
   "cell_type": "code",
   "execution_count": 7,
   "id": "4d46af72-99a7-4cae-9601-66a1267b5901",
   "metadata": {
    "tags": []
   },
   "outputs": [],
   "source": [
    "diverging_colors = [\n",
    "    \"#4E79A7\", \"#A0CBE8\", \"#F28E2B\", \"#FFBE7D\", \"#59A14F\",\n",
    "    \"#8CD17D\", \"#B6992D\", \"#FDCB9E\", \"#499894\", \"#86BCB6\",\n",
    "    \"#E15759\", \"#FF9D9A\", \"#79706E\", \"#BAB0AC\", \"#D37295\",\n",
    "    \"#FABFD2\", \"#B07AA1\", \"#D4A5A5\", \"#F7F7F7\", \"#CCCCCC\",\n",
    "    \"#0072B2\", \"#009E73\", \"#D55E00\", \"#CC79A7\", \"#56B4E9\",\n",
    "    \"#009E73\", \"#F0E442\", \"#0072B2\", \"#D55E00\", \"#CC79A7\",\n",
    "    \"#56B4E9\", \"#009E73\", \"#F0E442\", \"#0072B2\", \"#D55E00\",\n",
    "    \"#CC79A7\", \"#56B4E9\", \"#009E73\", \"#F0E442\", \"#0072B2\",\n",
    "    \"#D55E00\", \"#CC79A7\", \"#56B4E9\", \"#009E73\", \"#F0E442\",\n",
    "    \"#0072B2\", \"#D55E00\", \"#CC79A7\", \"#56B4E9\", \"#009E73\"\n",
    "]"
   ]
  },
  {
   "cell_type": "code",
   "execution_count": 117,
   "id": "300e5f42-f826-4dd9-b1c9-77b76f40e14b",
   "metadata": {},
   "outputs": [],
   "source": [
    "name_list = [HOGs_to_gene_d[HOG] for HOG in HOG_list]\n",
    "itol_annot.make_multi_itol_bargraph_dataset('./itol_dataset_multi.txt',binary_count_dict, name_list,hexcolors=diverging_colors)"
   ]
  },
  {
   "cell_type": "code",
   "execution_count": 118,
   "id": "88849279-ea20-463d-a6a2-652b836cffad",
   "metadata": {
    "tags": []
   },
   "outputs": [],
   "source": [
    "relabel_dict = {acc:name.replace('Acinetobacter','A.') for acc, name in dop_obj.accession_to_name.items()}\n",
    "itol_annot.relabel_itol_treeleafs(tree, relabel_dict, './itol_annotations_relabel.txt')"
   ]
  },
  {
   "cell_type": "code",
   "execution_count": 132,
   "id": "e963fea2-bed7-448d-9002-9d9231cb4f1e",
   "metadata": {
    "tags": []
   },
   "outputs": [
    {
     "data": {
      "text/plain": [
       "'GCA_001077675.1'"
      ]
     },
     "execution_count": 132,
     "metadata": {},
     "output_type": "execute_result"
    }
   ],
   "source": [
    "LP_acc"
   ]
  },
  {
   "cell_type": "code",
   "execution_count": 119,
   "id": "6d689421-980d-493c-b2be-53487a214691",
   "metadata": {
    "tags": []
   },
   "outputs": [],
   "source": [
    "LP_acc = dop_obj.name_to_accession['Acinetobacter baumannii ATCC 17978-mff']\n",
    "gene_d = dop_obj.gene_HOG_dict(LP_acc)\n",
    "gene_2_prot_d = pgf.make_gene2prot_dict(f'./data/ncbi_dataset/data/{LP_acc}/genomic.gff')\n",
    "gene_ortho_d = {}"
   ]
  },
  {
   "cell_type": "code",
   "execution_count": 120,
   "id": "d324f240-e01e-4c28-8a66-cdf8fcc73b77",
   "metadata": {
    "tags": []
   },
   "outputs": [],
   "source": [
    "genes_to_check = {'ACX60_00950','ACX60_05080', 'ACX60_07925', 'ACX60_10365','ACX60_11495'}\n",
    "#removed 'ACX60_05895' from genes_to_check\n",
    "for gene in genes_to_check:\n",
    "    prot = gene_2_prot_d['gene-'+gene]\n",
    "    gene_ortho_d[gene] = gene_d[prot.strip('cds-')]   \n"
   ]
  },
  {
   "cell_type": "code",
   "execution_count": 121,
   "id": "1f4ec974-7eeb-4518-ba56-a917cf79659d",
   "metadata": {
    "tags": []
   },
   "outputs": [],
   "source": [
    "def make_HOG_protein_align_files(gene_ortho_d=gene_ortho_d, output_dir='./fasta_files'):\n",
    "    for HOG in gene_ortho_d.values():\n",
    "        df = dop_obj.get_HOG_protein_seqs(HOG)\n",
    "        d = {prot_id:seq for prot_id,seq in zip(df.index, df['Protein_seq'])}\n",
    "        pfa.write_to_fasta(d,f'{output_dir}/{HOG}.faa')\n",
    "        input_file = f'{output_dir}/{HOG}.faa'\n",
    "        output_file = input_file.replace('faa', 'afa')\n",
    "        !muscle -in $input_file -out $output_file "
   ]
  },
  {
   "cell_type": "code",
   "execution_count": 122,
   "id": "0e5fcd6d-c291-4776-9870-b297811ac0fa",
   "metadata": {
    "tags": []
   },
   "outputs": [
    {
     "data": {
      "text/plain": [
       "{'ACX60_05080': {'VU': 227, 'UN': 1, 'Other': 0},\n",
       " 'ACX60_07925': {'VU': 228, 'UN': 1, 'Other': 0},\n",
       " 'ACX60_10365': {'VU': 2, 'UN': 228, 'Other': 0},\n",
       " 'ACX60_00950': {'VU': 229, 'UN': 1, 'Other': 0},\n",
       " 'ACX60_11495': {'VU': 184, 'UN': 1, 'Other': 0}}"
      ]
     },
     "execution_count": 122,
     "metadata": {},
     "output_type": "execute_result"
    }
   ],
   "source": [
    "gene_var_d = {\n",
    " 'ACX60_00950': {'VU':'A382', 'UN':'T382'},\n",
    " 'ACX60_07925': {'VU':'M78', 'UN':'T78'},\n",
    " #'ACX60_05895': {'VU':'G12', 'UN':'D12'},\n",
    " 'ACX60_11495': {'VU':'T2', 'UN':'K2'},\n",
    " 'ACX60_05080': {'VU':'N258', 'UN':'I258'},\n",
    " 'ACX60_10365': {'VU':'F805', 'UN':'V805'}, ## gaps in alignment unaligned 17978-mff = position 799\n",
    "}\n",
    "all_leafnames = [cl.name for cl in tree.get_terminals()]\n",
    "variants_tally  = {}\n",
    "d_nested = {gene:{} for gene in gene_ortho_d}\n",
    "count_d = {gene:{} for gene in gene_var_d}\n",
    "for gene, HOG in gene_ortho_d.items():\n",
    "    VU_var = gene_var_d[gene]['VU']\n",
    "    UN_var = gene_var_d[gene]['UN']\n",
    "    d = pfa.get_seq_dict(f'./fasta_files/{HOG}.afa')\n",
    "    VU_tally = 0 \n",
    "    UN_tally = 0 \n",
    "    other_tally = 0\n",
    "    acc_prot_d = {p[:15][::-1].replace('_','.',1)[::-1]:p[16:] for p in list(d.keys())}\n",
    "    #for protein in d:\n",
    "    for acc in all_leafnames:\n",
    "        if not acc_prot_d.get(acc):\n",
    "            acc = acc[:-2] +'_' + acc[-1]\n",
    "            count_d[gene][acc] = -1\n",
    "        else:\n",
    "            protein =  acc[::-1].replace('.','_',1)[::-1]+'_'+ acc_prot_d[acc]\n",
    "            pos =  int(VU_var[1:])-1\n",
    "            var = d[protein][pos]\n",
    "            #print(gene, var, 'UN',UN_var[0], 'VU', VU_var[0])\n",
    "            if var == VU_var[0]:\n",
    "                VU_tally +=1\n",
    "                count_d[gene][protein] = 1\n",
    "            elif var ==  UN_var[0]:\n",
    "                UN_tally +=1\n",
    "                count_d[gene][protein] = 0\n",
    "            else:\n",
    "                other_tally += 1\n",
    "                count_d[gene][protein] = -1\n",
    "            \n",
    "    variants_tally[gene] = {'VU':VU_tally, 'UN': UN_tally, 'Other': other_tally}\n",
    "variants_tally"
   ]
  },
  {
   "cell_type": "code",
   "execution_count": 128,
   "id": "630a0716-8d00-4d15-af64-95626e88422f",
   "metadata": {
    "tags": []
   },
   "outputs": [],
   "source": [
    "count_d['clsC2'] = {}\n",
    "clsC2_prots = dop_obj.all_prots_in_HOG('N3.HOG0003090')\n",
    "for acc in all_leafnames:\n",
    "    acc = acc[::-1].replace('.','_',1)[::-1]\n",
    "    count_d['clsC2'][acc] = 0 \n",
    "for acc in all_leafnames:\n",
    "    for prot in clsC2_prots:\n",
    "        if prot.startswith(acc[:13]):\n",
    "            acc = acc[::-1].replace('.','_',1)[::-1]\n",
    "            count_d['clsC2'][acc] = 1\n",
    "            \n",
    "            "
   ]
  },
  {
   "cell_type": "code",
   "execution_count": null,
   "id": "df4f4875-f732-4484-8b47-8414852c5db2",
   "metadata": {
    "tags": []
   },
   "outputs": [],
   "source": []
  },
  {
   "cell_type": "code",
   "execution_count": null,
   "id": "73db98c5-09ef-469b-8cf8-b794c0370ee0",
   "metadata": {
    "tags": []
   },
   "outputs": [],
   "source": []
  },
  {
   "cell_type": "code",
   "execution_count": null,
   "id": "9a449dee-b0a2-47c8-b03a-8ca277c93fed",
   "metadata": {
    "tags": []
   },
   "outputs": [],
   "source": []
  },
  {
   "cell_type": "code",
   "execution_count": null,
   "id": "ecdda166-32cb-49a9-ac25-d1e30a64c1cf",
   "metadata": {
    "tags": []
   },
   "outputs": [],
   "source": []
  },
  {
   "cell_type": "code",
   "execution_count": 129,
   "id": "4f32ac83-3360-4f47-a70b-d9913cbd2fa3",
   "metadata": {},
   "outputs": [],
   "source": [
    "nested_d = count_d\n",
    "def flatten_nested(nested_d):\n",
    "    \"\"\"\"\"\"\n",
    "    \n",
    "\n",
    "name_list = []\n",
    "flattened_d = {acc:[] for acc in [cl.name for cl in tree.get_terminals()]}\n",
    "for name, d in nested_d.items():\n",
    "    name_list.append(name)\n",
    "    for leaf, count in d.items():\n",
    "        leaf = leaf[:15][::-1].replace('_','.',1)[::-1]\n",
    "        flattened_d[leaf].append(count)\n",
    "    \n",
    "\n",
    "        \n",
    "        \n",
    "    "
   ]
  },
  {
   "cell_type": "code",
   "execution_count": 130,
   "id": "a3ed2d7c-8945-444d-86b7-d94a9d00ad2f",
   "metadata": {
    "tags": []
   },
   "outputs": [],
   "source": [
    "itol_annot.make_itol_binary_trait_dataset('./test_itol_binarytraits.txt',flattened_d, list(count_d.keys()),  )"
   ]
  },
  {
   "cell_type": "code",
   "execution_count": 131,
   "id": "3806b6b3-90f1-433c-9b75-9b22684d6ce9",
   "metadata": {
    "tags": []
   },
   "outputs": [
    {
     "data": {
      "text/plain": [
       "{'GCF_000046845.1': [-1, -1, -1, -1, -1, 0],\n",
       " 'GCF_001682515.1': [-1, -1, -1, -1, -1, 0],\n",
       " 'GCF_000413935.1': [-1, -1, -1, -1, -1, 0],\n",
       " 'GCF_005281455.1': [1, 1, 1, 1, 0, 1],\n",
       " 'GCF_012931665.1': [1, 1, -1, 1, 0, 1],\n",
       " 'GCF_014858105.1': [1, 1, 1, 1, 0, 1],\n",
       " 'GCF_017753625.1': [1, 1, 1, 1, 0, 1],\n",
       " 'GCF_024749585.1': [1, 1, 1, 1, 0, 1],\n",
       " 'GCF_009833005.1': [1, 1, 1, 1, 0, 1],\n",
       " 'GCF_001693195.1': [1, 1, 1, 1, 0, 1],\n",
       " 'GCF_001721705.1': [1, 1, 1, 1, 0, 1],\n",
       " 'GCF_016654255.2': [1, 1, 1, 1, 0, 1],\n",
       " 'GCF_016506845.1': [1, 1, 1, 1, 0, 1],\n",
       " 'GCF_000580815.1': [1, 1, 1, 1, 0, 1],\n",
       " 'GCF_000581895.1': [1, 1, 1, 1, 0, 1],\n",
       " 'GCF_002014315.1': [1, 1, 1, 1, 0, 1],\n",
       " 'GCF_021726495.1': [1, 1, 1, 1, 0, 1],\n",
       " 'GCF_018863335.1': [1, 1, 1, 1, 0, 1],\n",
       " 'GCF_018863255.1': [1, 1, 1, 1, 0, 1],\n",
       " 'GCF_008124045.1': [1, 1, -1, 1, 0, 1],\n",
       " 'GCF_001693105.1': [1, 1, 1, 1, 0, 1],\n",
       " 'GCF_015571935.1': [1, 1, 1, 1, 0, 1],\n",
       " 'GCF_013787185.1': [1, 1, 1, 1, 0, 0],\n",
       " 'GCF_003948495.1': [1, 1, 1, 1, 0, 1],\n",
       " 'GCF_002136685.1': [1, 1, 1, 1, 0, 1],\n",
       " 'GCF_016508565.1': [1, 1, -1, 1, 0, 1],\n",
       " 'GCF_016508455.1': [1, 1, -1, 1, 0, 1],\n",
       " 'GCF_000369265.1': [1, 1, 1, 1, 0, 1],\n",
       " 'GCF_004354145.1': [1, 1, 1, 1, 0, 1],\n",
       " 'GCF_004354165.1': [1, 1, -1, 1, 0, 1],\n",
       " 'GCF_021729465.1': [1, 1, 1, 1, 0, 1],\n",
       " 'GCF_018863375.1': [1, 1, 1, 1, 0, 1],\n",
       " 'GCF_018883565.1': [1, 1, -1, 1, 0, 1],\n",
       " 'GCF_022460155.2': [1, 1, 1, 1, 0, 1],\n",
       " 'GCF_000297935.1': [1, 1, 1, 1, 0, 1],\n",
       " 'GCF_002136955.1': [1, 1, 1, 1, 0, 1],\n",
       " 'GCF_001648035.1': [1, 1, 1, 1, 0, 1],\n",
       " 'GCF_003057525.1': [1, 1, 1, 1, 0, 1],\n",
       " 'GCF_002142735.1': [1, 1, 1, 1, 0, 1],\n",
       " 'GCF_022467435.1': [1, 1, 1, 1, 0, 1],\n",
       " 'GCF_022605145.1': [1, 1, -1, -1, 0, 1],\n",
       " 'GCF_003994455.1': [1, 1, -1, 1, 0, 1],\n",
       " 'GCF_003231185.1': [1, 1, 1, 1, 0, 1],\n",
       " 'GCF_000369165.1': [1, 1, 1, 1, 0, 1],\n",
       " 'GCF_022466815.1': [1, 1, 1, 1, 0, 1],\n",
       " 'GCF_014672735.1': [1, 1, 1, 1, 0, 1],\n",
       " 'GCF_014926505.1': [1, 1, -1, 1, 0, 1],\n",
       " 'GCF_010500415.1': [1, 1, 1, 1, 0, 1],\n",
       " 'GCF_004354125.1': [1, 1, 1, 1, 0, 1],\n",
       " 'GCF_003007245.1': [1, 1, 1, 1, 0, 1],\n",
       " 'GCF_022937705.1': [1, 1, 1, 1, 0, 1],\n",
       " 'GCF_023499155.1': [1, 1, 1, 1, 0, 1],\n",
       " 'GCF_023499085.1': [1, 1, 1, 1, 0, 1],\n",
       " 'GCF_000505685.1': [1, 1, 1, 1, 0, 1],\n",
       " 'GCF_000335535.1': [1, 1, -1, 1, 0, 1],\n",
       " 'GCF_002145155.1': [1, 1, -1, 1, 0, 1],\n",
       " 'GCF_001261895.2': [1, 1, 1, 1, 0, 1],\n",
       " 'GCF_002148745.1': [1, 1, 1, 1, 0, 1],\n",
       " 'GCF_001891205.1': [1, 1, 1, 1, 0, 1],\n",
       " 'GCF_024749605.1': [1, 1, 1, 1, 0, 1],\n",
       " 'GCF_024589115.1': [1, 1, 1, 1, 0, 1],\n",
       " 'GCF_000304675.1': [1, 1, -1, 1, 0, 1],\n",
       " 'GCF_000368545.1': [1, 1, 1, 1, 0, 1],\n",
       " 'GCF_019903175.1': [1, 1, 1, 1, 0, 1],\n",
       " 'GCF_016654345.2': [1, 1, 1, 1, 0, 1],\n",
       " 'GCF_000453165.1': [1, 1, 1, 1, 0, 1],\n",
       " 'GCF_004153295.1': [1, 1, 1, 1, 0, 1],\n",
       " 'GCF_000731965.1': [1, 1, 1, 1, 0, 1],\n",
       " 'GCF_003939565.1': [1, 1, -1, 1, 0, 1],\n",
       " 'GCF_023896495.1': [1, 1, 1, 1, 0, 1],\n",
       " 'GCF_016506315.1': [1, 1, 1, 1, 0, 1],\n",
       " 'GCF_019703285.1': [1, 1, 1, 1, 0, 1],\n",
       " 'GCF_024749505.1': [1, 1, -1, 1, 0, 0],\n",
       " 'GCF_009740145.1': [1, 1, 1, 1, 0, 1],\n",
       " 'GCF_000682415.1': [1, 1, 1, 1, 0, 1],\n",
       " 'GCF_012515875.1': [1, 1, 1, 1, 0, 1],\n",
       " 'GCF_017349115.1': [1, 1, -1, 1, 0, 1],\n",
       " 'GCF_024749445.1': [1, 1, 1, 1, 0, 1],\n",
       " 'GCF_000297575.1': [1, 1, 1, 1, 0, 1],\n",
       " 'GCF_000305275.1': [1, 1, 1, 1, 0, 1],\n",
       " 'GCF_021460825.1': [1, 1, -1, 1, 0, 1],\n",
       " 'GCF_000580315.1': [1, 1, 1, 1, 0, 1],\n",
       " 'GCF_003948385.1': [1, 1, 1, 1, 0, 1],\n",
       " 'GCF_018135585.1': [1, 1, 1, 1, 0, 1],\n",
       " 'GCF_002573735.1': [1, 1, -1, 1, 0, 1],\n",
       " 'GCF_002138175.1': [1, 1, -1, 1, 0, 1],\n",
       " 'GCF_006491875.1': [1, 1, -1, 1, 0, 1],\n",
       " 'GCF_001864575.1': [1, 1, -1, 1, 0, 1],\n",
       " 'GCF_002145095.1': [1, 1, -1, 1, 0, 1],\n",
       " 'GCF_013394285.1': [1, 1, 1, 1, 0, 1],\n",
       " 'GCF_012931625.1': [1, 1, -1, 1, 0, 1],\n",
       " 'GCF_024749525.1': [1, 1, 1, 1, 0, 1],\n",
       " 'GCF_000584355.1': [1, 1, 1, 1, 0, 1],\n",
       " 'GCF_000611465.1': [1, 1, 1, -1, 0, 1],\n",
       " 'GCF_000588135.1': [1, 1, 1, 1, 0, 1],\n",
       " 'GCF_022369275.1': [1, 1, 1, 1, 0, 1],\n",
       " 'GCF_022937725.1': [1, 1, 1, 1, 0, 1],\n",
       " 'GCF_017939285.1': [1, 1, 1, 1, 0, 1],\n",
       " 'GCF_019076685.1': [1, 1, 1, 1, 0, 0],\n",
       " 'GCF_022342285.1': [1, 1, -1, 1, 0, 1],\n",
       " 'GCF_002902885.1': [1, 1, -1, 1, 0, 1],\n",
       " 'GCF_013416275.1': [1, 1, -1, 1, 0, 1],\n",
       " 'GCF_002573825.1': [1, 1, 1, 1, 0, 1],\n",
       " 'GCF_002573875.1': [1, 1, 1, 1, 0, 1],\n",
       " 'GCF_003522665.1': [1, 1, 1, 1, 0, 1],\n",
       " 'GCF_000746645.1': [1, 1, 1, 1, 0, 1],\n",
       " 'GCF_024749625.1': [1, 1, 1, 1, 0, 1],\n",
       " 'GCF_003431865.1': [1, 1, 1, 1, 0, 1],\n",
       " 'GCF_000814345.1': [1, 1, 1, 1, 0, 0],\n",
       " 'GCF_022459095.1': [1, 1, 1, 1, 0, 1],\n",
       " 'GCF_006494665.1': [1, 1, 1, 1, 0, 1],\n",
       " 'GCF_003970215.1': [1, 1, 1, 1, 0, 1],\n",
       " 'GCF_000369225.1': [1, 1, 1, 1, 0, 1],\n",
       " 'GCF_000309235.1': [1, 1, 1, 1, 0, 1],\n",
       " 'GCF_020810655.1': [1, 1, 1, 1, 0, 1],\n",
       " 'GCF_020271605.1': [1, 1, 1, 1, 0, 1],\n",
       " 'GCF_004194555.1': [1, 1, 1, 1, 0, 1],\n",
       " 'GCF_001863785.1': [1, 1, -1, 1, 0, 1],\n",
       " 'GCF_019903155.1': [1, 1, 1, 1, 0, 1],\n",
       " 'GCF_003812385.1': [1, 1, 1, 1, 0, 1],\n",
       " 'GCF_001077555.2': [1, 1, 1, 1, 0, 1],\n",
       " 'GCF_002142945.1': [1, 1, 1, 1, 0, 1],\n",
       " 'GCF_001432595.1': [1, 1, -1, 1, 0, 0],\n",
       " 'GCF_000584095.1': [1, 1, -1, 1, 0, 1],\n",
       " 'GCF_005280675.1': [1, 1, -1, 1, 0, 1],\n",
       " 'GCF_010499945.1': [1, 1, -1, 1, 0, 1],\n",
       " 'GCF_003231175.1': [1, 1, 1, 1, 0, 0],\n",
       " 'GCF_016117795.1': [1, 1, 1, 1, 0, 1],\n",
       " 'GCF_023371095.1': [1, 1, 1, 1, 0, 1],\n",
       " 'GCF_017349155.1': [1, 1, 1, 1, 0, 1],\n",
       " 'GCF_013377175.1': [1, 1, 1, 1, 0, 1],\n",
       " 'GCF_007107525.1': [1, 1, -1, 1, 0, 1],\n",
       " 'GCF_024205285.1': [1, 1, 1, 1, 0, 1],\n",
       " 'GCF_002143345.1': [1, 1, 1, 1, 0, 1],\n",
       " 'GCF_016635075.1': [1, 1, 1, 1, 0, 1],\n",
       " 'GCF_001693095.1': [1, 1, 1, 1, 0, 1],\n",
       " 'GCF_012931605.1': [1, 1, 1, 1, 0, 0],\n",
       " 'GCF_016654265.1': [1, 1, 1, 1, 0, 0],\n",
       " 'GCF_003812065.1': [1, 1, -1, 1, 0, 0],\n",
       " 'GCF_000368525.1': [1, 1, 1, 1, 0, 0],\n",
       " 'GCF_001077965.2': [1, 1, 1, 1, 0, 0],\n",
       " 'GCF_023896375.1': [1, 1, 1, 1, 0, 1],\n",
       " 'GCF_000584415.1': [1, 1, 1, 1, 0, 1],\n",
       " 'GCF_008802935.1': [1, 1, 1, 1, 0, 0],\n",
       " 'GCF_024139015.1': [1, 1, 1, 1, 0, 1],\n",
       " 'GCF_004564115.1': [1, 1, 1, 1, 0, 0],\n",
       " 'GCF_020982745.1': [1, 1, 1, 1, 0, 1],\n",
       " 'GCF_006492965.1': [1, 1, 1, 1, 0, 1],\n",
       " 'GCF_003948415.1': [1, 1, 1, 1, 0, 1],\n",
       " 'GCF_002727055.2': [1, 1, 1, 1, 0, 0],\n",
       " 'GCF_001895125.2': [1, 1, 1, 1, 0, 1],\n",
       " 'GCF_000335635.1': [1, 1, 1, 1, 0, 0],\n",
       " 'GCF_000314635.1': [1, 1, 1, 1, 0, 1],\n",
       " 'GCF_023981045.1': [1, 1, 1, 1, 0, 1],\n",
       " 'GCF_021460555.1': [1, 1, 1, 1, 0, 1],\n",
       " 'GCF_010500545.1': [1, 1, 1, 1, 0, 0],\n",
       " 'GCF_012974585.1': [1, 1, 1, 1, 0, 1],\n",
       " 'GCF_000805045.1': [1, 1, 1, 1, 0, 1],\n",
       " 'GCF_008709685.1': [1, 1, 1, 1, 0, 1],\n",
       " 'GCF_004758865.1': [1, 1, 1, 1, 0, 1],\n",
       " 'GCF_001077655.1': [1, 1, 1, 1, 0, 1],\n",
       " 'GCF_000369305.1': [1, 1, 1, 1, 0, 1],\n",
       " 'GCF_000413915.1': [1, 1, 1, 1, 0, 0],\n",
       " 'GCF_006494285.1': [1, 1, 1, 1, 0, 1],\n",
       " 'GCF_014169655.1': [1, 1, 1, 1, 0, 1],\n",
       " 'GCF_004028375.1': [1, 1, 1, 1, 0, 1],\n",
       " 'GCF_023004295.1': [1, 1, 1, 1, 0, 1],\n",
       " 'GCF_014672775.1': [1, 1, 1, 1, 1, 0],\n",
       " 'GCA_001077675.1': [1, 1, 1, 1, 1, 0],\n",
       " 'GCA_019356215.1': [0, 0, 0, 0, 0, 1],\n",
       " 'GCF_018221365.1': [1, 1, 1, 1, 0, 1],\n",
       " 'GCF_000453225.1': [1, 1, 1, 1, 0, 1],\n",
       " 'GCF_016506985.1': [1, 1, -1, 1, 0, 1],\n",
       " 'GCF_021484905.1': [1, 1, 1, 1, 0, 1],\n",
       " 'GCF_009428985.1': [1, 1, 1, 1, 0, 1],\n",
       " 'GCF_001399655.1': [1, 1, 1, 1, 0, 1],\n",
       " 'GCF_000770605.1': [1, 1, 1, 1, 0, 1],\n",
       " 'GCF_000021245.2': [1, 1, 1, 1, 0, 1],\n",
       " 'GCF_000069245.1': [1, 1, 1, 1, 0, 0],\n",
       " 'GCF_001612025.1': [1, 1, -1, 1, 0, 1],\n",
       " 'GCF_000759395.1': [1, 1, 1, 1, 0, 1],\n",
       " 'GCF_024138435.1': [1, 1, 1, 1, 0, 1],\n",
       " 'GCF_024173565.1': [1, 1, 1, 1, 0, 1],\n",
       " 'GCF_001077575.1': [1, 1, 1, 1, 0, 1],\n",
       " 'GCF_017724155.1': [1, 1, 1, 1, 0, 1],\n",
       " 'GCF_023517235.1': [1, 1, 1, 1, 0, 1],\n",
       " 'GCF_008801795.1': [1, 1, 1, 1, 0, 1],\n",
       " 'GCF_008632635.1': [1, 1, 1, 1, 0, 1],\n",
       " 'GCF_004912245.1': [1, 1, 1, 1, 0, 1],\n",
       " 'GCF_001693125.1': [1, 1, 1, 1, 0, 1],\n",
       " 'GCF_002573725.1': [1, 1, 1, 1, 0, 1],\n",
       " 'GCF_023360975.1': [1, 1, 1, 1, 0, 1],\n",
       " 'GCF_024732425.1': [1, 1, 1, 1, 0, 1],\n",
       " 'GCF_022342205.1': [1, 1, 1, 1, 0, 1],\n",
       " 'GCF_019457735.1': [1, 1, 1, 1, 0, 1],\n",
       " 'GCF_016654365.1': [1, 1, 1, 1, 0, 1],\n",
       " 'GCF_001518715.1': [1, 1, 1, 1, 0, 1],\n",
       " 'GCF_000498375.2': [1, 1, 1, 1, 0, 1],\n",
       " 'GCF_000018445.1': [1, -1, 1, 1, 0, 1],\n",
       " 'GCF_002573915.1': [1, 1, 1, 1, 0, 1],\n",
       " 'GCF_003948835.1': [1, 1, 1, 1, 0, 1],\n",
       " 'GCF_014322245.1': [1, 1, 1, 1, 0, 1],\n",
       " 'GCF_000583375.1': [1, 1, -1, 1, 0, 1],\n",
       " 'GCF_024749405.1': [1, 1, -1, 1, 0, 1],\n",
       " 'GCF_020982665.1': [1, 1, -1, 1, 0, 1],\n",
       " 'GCF_024749425.1': [1, 1, -1, 1, 0, 1],\n",
       " 'GCF_000368205.1': [1, 1, -1, 1, 0, 0],\n",
       " 'GCF_014159355.1': [1, 1, 1, 1, 0, 1],\n",
       " 'GCF_024589795.1': [1, 1, -1, 1, 0, 1],\n",
       " 'GCF_018831125.1': [1, 1, 1, 1, 0, 1],\n",
       " 'GCF_012934905.1': [1, 1, 1, 1, 0, 1],\n",
       " 'GCF_006843645.1': [1, 1, 1, 1, 0, 1],\n",
       " 'GCF_003431385.1': [1, 1, 1, 1, 0, 1],\n",
       " 'GCF_024749645.1': [1, 1, 1, 1, 0, 1],\n",
       " 'GCF_024749785.1': [1, 1, 1, 1, 0, 1],\n",
       " 'GCF_025264005.1': [1, 1, 1, 1, 0, 0],\n",
       " 'GCF_025456905.1': [1, 1, 1, 1, 0, 1],\n",
       " 'GCF_025457015.1': [1, 1, -1, 1, 0, 1],\n",
       " 'GCF_025515635.1': [1, 1, 1, 1, 0, 1],\n",
       " 'GCF_025717695.1': [1, 1, -1, 1, 0, 1],\n",
       " 'GCF_026062515.1': [1, 1, 1, 1, 0, 1],\n",
       " 'GCF_026153175.1': [1, 1, 1, 1, 0, 1],\n",
       " 'GCF_026189845.2': [1, 1, 1, 1, 0, 0],\n",
       " 'GCF_026273385.1': [1, 1, 1, 1, 0, 1],\n",
       " 'GCF_026273705.1': [1, 1, 1, 1, 0, 1],\n",
       " 'GCF_026273925.1': [1, 1, 1, 1, 0, 1],\n",
       " 'GCF_026675765.1': [1, 1, 1, 1, 0, 1],\n",
       " 'GCF_027257275.1': [1, 1, 1, 1, 0, 1],\n",
       " 'GCF_027257495.1': [1, 1, -1, 1, 0, 1],\n",
       " 'GCF_027257815.1': [1, 1, -1, 1, 0, 1],\n",
       " 'GCF_027558855.1': [1, 1, 1, 1, 0, 1],\n",
       " 'GCF_027854725.1': [1, 1, 1, 1, 0, 1],\n",
       " 'GCF_028402505.1': [1, 1, -1, 1, 0, 1]}"
      ]
     },
     "execution_count": 131,
     "metadata": {},
     "output_type": "execute_result"
    }
   ],
   "source": [
    "flattened_d"
   ]
  },
  {
   "cell_type": "code",
   "execution_count": null,
   "id": "3f9fcf9e-0959-4a10-be9e-6179ec8224f3",
   "metadata": {},
   "outputs": [],
   "source": []
  }
 ],
 "metadata": {
  "kernelspec": {
   "display_name": "Python 3 (ipykernel)",
   "language": "python",
   "name": "python3"
  },
  "language_info": {
   "codemirror_mode": {
    "name": "ipython",
    "version": 3
   },
   "file_extension": ".py",
   "mimetype": "text/x-python",
   "name": "python",
   "nbconvert_exporter": "python",
   "pygments_lexer": "ipython3",
   "version": "3.10.8"
  }
 },
 "nbformat": 4,
 "nbformat_minor": 5
}
