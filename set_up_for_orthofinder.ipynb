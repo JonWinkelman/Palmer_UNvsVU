{
 "cells": [
  {
   "cell_type": "code",
   "execution_count": 4,
   "id": "a5bc58bd-5dc8-4602-ac29-b6f67aeb0af8",
   "metadata": {
    "tags": []
   },
   "outputs": [],
   "source": [
    "\n",
    "from orthofinder_utils import proteomes_for_orthofinder as pfo\n",
    "from orthofinder_utils import dash_ortho_parser_d as dop\n",
    "from jw_utils import parse_gff as pgf\n",
    "import os\n",
    "import pandas as pd\n",
    "import json\n",
    "from Bio import Phylo\n",
    "import shutil\n",
    "import plotly.graph_objects as go\n",
    "from jw_utils import ncbi_datasets_fxs as nfx\n",
    "from jw_utils import jw_ncbi_taxonomy as jnt\n",
    "from ete3 import ncbi_taxonomy\n",
    "ncbi_tax = ncbi_taxonomy.NCBITaxa()"
   ]
  },
  {
   "cell_type": "code",
   "execution_count": 13,
   "id": "cab695dd-d18e-47c0-aa03-09845fdcacf5",
   "metadata": {
    "tags": []
   },
   "outputs": [],
   "source": [
    "ncbi_data_dir = './data/ncbi_datasets/data'\n",
    "os.makedirs(ncbi_data_dir)\n",
    "accessions = []\n",
    "with open('deduped_filtere_accessions.txt', 'r') as f:\n",
    "    for line in f:\n",
    "        accessions.append(line.strip())"
   ]
  },
  {
   "cell_type": "code",
   "execution_count": 14,
   "id": "067db21a-83f3-4701-9668-836ee4c55ba1",
   "metadata": {
    "tags": []
   },
   "outputs": [],
   "source": [
    "def grab_subset_ncbidata(parent_ncbi_data_folder, accessions_subset):\n",
    "    \"\"\"\"\"\"\n",
    "    \n",
    "    assembly_folders = [f for f in os.listdir(parent_ncbi_data_folder) if f.startswith('GC')]\n",
    "    for folder in assembly_folders:\n",
    "        if folder in accessions_subset:\n",
    "            fp = os.path.join(parent_ncbi_data_folder, folder)\n",
    "            shutil.copytree(fp,os.path.join(ncbi_data_dir, folder))\n",
    "            \n",
    "parent_ncbi_data_folder = '../ncbi_dataset/ncbi_datasets/data'"
   ]
  },
  {
   "cell_type": "code",
   "execution_count": 26,
   "id": "140d8933-303d-4dfd-89b3-4e3423256b33",
   "metadata": {
    "tags": []
   },
   "outputs": [],
   "source": [
    "def move_proteomes_to_own_folder(path_to_proteomes, parent_ncbi_data_folder):\n",
    "    \"\"\"  \"\"\"\n",
    "\n",
    "\n",
    "    if not os.path.exists(path_to_proteomes):\n",
    "        os.makedirs(path_to_proteomes)\n",
    "    assembly_folders = [f for f in os.listdir(parent_ncbi_data_folder) if f.startswith('GC')]\n",
    "    for folder in assembly_folders:\n",
    "        fp = os.path.join(parent_ncbi_data_folder, folder, 'protein.faa')\n",
    "        shutil.copy(fp,os.path.join(path_to_proteomes, f'{folder}.faa'))\n",
    "\n",
    "path_to_proteomes = './data/Proteomes'  \n",
    "parent_ncbi_data_folder = './data/ncbi_datasets/data'       \n",
    "move_proteomes_to_own_folder(path_to_proteomes, parent_ncbi_data_folder)"
   ]
  },
  {
   "cell_type": "code",
   "execution_count": null,
   "id": "a0fdc334-3a1d-4271-b8c6-939dd8dcfeed",
   "metadata": {
    "tags": []
   },
   "outputs": [],
   "source": []
  },
  {
   "cell_type": "code",
   "execution_count": null,
   "id": "03b1a409-9065-4364-9c45-2edcbef8694d",
   "metadata": {},
   "outputs": [],
   "source": []
  }
 ],
 "metadata": {
  "kernelspec": {
   "display_name": "Python 3 (ipykernel)",
   "language": "python",
   "name": "python3"
  },
  "language_info": {
   "codemirror_mode": {
    "name": "ipython",
    "version": 3
   },
   "file_extension": ".py",
   "mimetype": "text/x-python",
   "name": "python",
   "nbconvert_exporter": "python",
   "pygments_lexer": "ipython3",
   "version": "3.10.8"
  },
  "toc-showcode": true,
  "toc-showmarkdowntxt": true
 },
 "nbformat": 4,
 "nbformat_minor": 5
}
